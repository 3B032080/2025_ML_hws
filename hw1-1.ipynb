{
 "cells": [
  {
   "cell_type": "code",
   "execution_count": 27,
   "id": "f6fded73-4830-4ee2-81b3-7d9650779478",
   "metadata": {},
   "outputs": [],
   "source": [
    "import numpy as np"
   ]
  },
  {
   "cell_type": "code",
   "execution_count": 28,
   "id": "e71d7814-802e-48f5-8338-eb6e8235245c",
   "metadata": {},
   "outputs": [],
   "source": [
    "def relu(x):\n",
    "    return np.maximum(0, x)"
   ]
  },
  {
   "cell_type": "code",
   "execution_count": 29,
   "id": "87f9bc5b-c898-44d8-b85e-61f1d1240e39",
   "metadata": {},
   "outputs": [],
   "source": [
    "def sigmoid(x):\n",
    "    return 1/(1+np.exp(-x))"
   ]
  },
  {
   "cell_type": "code",
   "execution_count": 30,
   "id": "7ffdbbf5-769e-41e3-a42d-54c69db46918",
   "metadata": {},
   "outputs": [],
   "source": [
    "def softmax(x):\n",
    "    c=np.max(x)\n",
    "    x = x - c\n",
    "    return np.exp(x) / np.sum(np.exp(x))"
   ]
  },
  {
   "cell_type": "code",
   "execution_count": 31,
   "id": "453d6fb5-2ecd-4c4d-87a3-00b04ae595db",
   "metadata": {},
   "outputs": [
    {
     "data": {
      "text/plain": [
       "(6,)"
      ]
     },
     "execution_count": 31,
     "metadata": {},
     "output_type": "execute_result"
    }
   ],
   "source": [
    "#輸入層的參數\n",
    "x = np.array([5.0 , 6.0 , 2.0 , 1.0 , 3.0 , 8.0])\n",
    "x.shape"
   ]
  },
  {
   "cell_type": "code",
   "execution_count": 32,
   "id": "0569d88e-1aa3-4a03-b745-84a231d9dcf5",
   "metadata": {},
   "outputs": [],
   "source": [
    "#第一隱藏層：五個神經元"
   ]
  },
  {
   "cell_type": "code",
   "execution_count": 33,
   "id": "9e47890f-06c3-4594-9550-d05f1e24db6f",
   "metadata": {},
   "outputs": [
    {
     "data": {
      "text/plain": [
       "(6, 5)"
      ]
     },
     "execution_count": 33,
     "metadata": {},
     "output_type": "execute_result"
    }
   ],
   "source": [
    "#第一隱藏層的權重\n",
    "w1 = np.array([[1.5,2.0,0.5,5.5,3.0],\n",
    "               [1.0,3.0,1.5,5.0,3.5],\n",
    "               [0.5,2.5,2.0,5.5,3.0],\n",
    "               [1.0,2.5,0.0,5.0,2.0],\n",
    "               [1.5,3.5,0.5,3.0,1.5],\n",
    "               [0.5,1.5,4.5,1.0,1.0]])\n",
    "w1.shape"
   ]
  },
  {
   "cell_type": "code",
   "execution_count": 34,
   "id": "6d43a9d1-a81f-4b4b-aa5e-40b7cc7d92e4",
   "metadata": {},
   "outputs": [
    {
     "data": {
      "text/plain": [
       "(5,)"
      ]
     },
     "execution_count": 34,
     "metadata": {},
     "output_type": "execute_result"
    }
   ],
   "source": [
    "#偏置\n",
    "b1 = np.array([2.0,2.5,1.0,4.5,2.0])\n",
    "b1.shape"
   ]
  },
  {
   "cell_type": "code",
   "execution_count": 35,
   "id": "d754ef5e-fdbf-4165-8278-0b257964e126",
   "metadata": {},
   "outputs": [
    {
     "name": "stdout",
     "output_type": "stream",
     "text": [
      "[26.  60.5 54.  95.  58.5]\n",
      "(5,)\n"
     ]
    }
   ],
   "source": [
    "#第一隱藏層加權\n",
    "z1 = np.dot(x,w1)+b1\n",
    "print(z1)\n",
    "print(z1.shape)"
   ]
  },
  {
   "cell_type": "code",
   "execution_count": 36,
   "id": "5453319c-09f3-45d9-89a7-1c4e66857c07",
   "metadata": {},
   "outputs": [
    {
     "name": "stdout",
     "output_type": "stream",
     "text": [
      "[26.  60.5 54.  95.  58.5]\n",
      "(5,)\n"
     ]
    }
   ],
   "source": [
    "#使用激發函數\n",
    "h1 = relu(z1)\n",
    "print(h1)\n",
    "print(h1.shape)"
   ]
  },
  {
   "cell_type": "code",
   "execution_count": 37,
   "id": "587e7ca4-278c-4b7c-9854-b30cf74b4fc5",
   "metadata": {},
   "outputs": [],
   "source": [
    "#第二隱藏層：四個神經元"
   ]
  },
  {
   "cell_type": "code",
   "execution_count": 38,
   "id": "13473965-46d7-40f0-891a-ca6b75cabf18",
   "metadata": {},
   "outputs": [
    {
     "data": {
      "text/plain": [
       "(5, 4)"
      ]
     },
     "execution_count": 38,
     "metadata": {},
     "output_type": "execute_result"
    }
   ],
   "source": [
    "#第二隱藏層的權重\n",
    "w2 = np.array([[1.5,0.5,0.5,-1.5],\n",
    "               [-2.5,0.0,2.5,2.0],\n",
    "               [-1.5,-1.0,3.0,-2.5],\n",
    "               [2.5,2.5,-1.0,1.0],\n",
    "               [-1.5,4.5,1.5,-1.5]])\n",
    "w2.shape"
   ]
  },
  {
   "cell_type": "code",
   "execution_count": 39,
   "id": "1c2772cb-1394-4257-8171-549c4671984c",
   "metadata": {},
   "outputs": [
    {
     "data": {
      "text/plain": [
       "(4,)"
      ]
     },
     "execution_count": 39,
     "metadata": {},
     "output_type": "execute_result"
    }
   ],
   "source": [
    "#偏置\n",
    "b2 = np.array([2.5,1.0,2.5,1.0])\n",
    "b2.shape"
   ]
  },
  {
   "cell_type": "code",
   "execution_count": 40,
   "id": "a17a1f4d-67d0-4c54-b367-000557aa7d17",
   "metadata": {},
   "outputs": [
    {
     "name": "stdout",
     "output_type": "stream",
     "text": [
      "[-41.   460.75 321.5  -44.75]\n",
      "(4,)\n"
     ]
    }
   ],
   "source": [
    "#第二隱藏層加權\n",
    "z2 = np.dot(h1,w2)+b2\n",
    "print(z2)\n",
    "print(z2.shape)"
   ]
  },
  {
   "cell_type": "code",
   "execution_count": 41,
   "id": "c23f27d6-331f-481c-8b2b-a4c2ce186c3e",
   "metadata": {},
   "outputs": [
    {
     "name": "stdout",
     "output_type": "stream",
     "text": [
      "[  0.   460.75 321.5    0.  ]\n",
      "(4,)\n"
     ]
    }
   ],
   "source": [
    "#使用激發函數\n",
    "h2 = relu(z2)\n",
    "print(h2)\n",
    "print(h2.shape)"
   ]
  },
  {
   "cell_type": "code",
   "execution_count": 42,
   "id": "0be359c7-b17e-4920-82b7-26b4a6cbd6a7",
   "metadata": {},
   "outputs": [],
   "source": [
    "#第三隱藏層：四個神經元"
   ]
  },
  {
   "cell_type": "code",
   "execution_count": 43,
   "id": "72a88a33-1ccd-42a5-8fa8-3d9fd6cb1964",
   "metadata": {},
   "outputs": [
    {
     "data": {
      "text/plain": [
       "(4, 4)"
      ]
     },
     "execution_count": 43,
     "metadata": {},
     "output_type": "execute_result"
    }
   ],
   "source": [
    "#第三隱藏層的權重\n",
    "w3 = np.array([[-0.5,0.5,1.5,1.5],\n",
    "               [0.5,2.0,2.5,1.0],\n",
    "               [0.5,2.0,1.0,1.5],\n",
    "               [-0.5,1.5,0.5,1.5]])\n",
    "w3.shape"
   ]
  },
  {
   "cell_type": "code",
   "execution_count": 44,
   "id": "04e7fbf0-c6e4-4bf6-9098-c435bcd675e8",
   "metadata": {},
   "outputs": [
    {
     "data": {
      "text/plain": [
       "(4,)"
      ]
     },
     "execution_count": 44,
     "metadata": {},
     "output_type": "execute_result"
    }
   ],
   "source": [
    "#偏置\n",
    "b3 = np.array([0.5,2.0,1.5,2.0])\n",
    "b3.shape"
   ]
  },
  {
   "cell_type": "code",
   "execution_count": 45,
   "id": "8f4f5ba2-b519-4ee0-8aba-30359dd8cefa",
   "metadata": {},
   "outputs": [
    {
     "name": "stdout",
     "output_type": "stream",
     "text": [
      "[ 391.625 1566.5   1474.875  945.   ]\n",
      "(4,)\n"
     ]
    }
   ],
   "source": [
    "#第三隱藏層加權\n",
    "z3 = np.dot(h2,w3)+b3\n",
    "print(z3)\n",
    "print(z3.shape)"
   ]
  },
  {
   "cell_type": "code",
   "execution_count": 46,
   "id": "1e204495-4b77-4225-96c1-52680e93ce4c",
   "metadata": {},
   "outputs": [
    {
     "name": "stdout",
     "output_type": "stream",
     "text": [
      "[1. 1. 1. 1.]\n",
      "(4,)\n"
     ]
    }
   ],
   "source": [
    "#使用激發函數\n",
    "h3 = sigmoid(z3)\n",
    "print(h3)\n",
    "print(h3.shape)"
   ]
  },
  {
   "cell_type": "code",
   "execution_count": 47,
   "id": "2af4814f-ccfb-4e6b-9102-9f8e95904fdb",
   "metadata": {},
   "outputs": [],
   "source": [
    "#輸出層：三個神經元"
   ]
  },
  {
   "cell_type": "code",
   "execution_count": 48,
   "id": "a73f75db-3c10-4161-bd5d-4dfc2e99d087",
   "metadata": {},
   "outputs": [
    {
     "data": {
      "text/plain": [
       "(4, 3)"
      ]
     },
     "execution_count": 48,
     "metadata": {},
     "output_type": "execute_result"
    }
   ],
   "source": [
    "#輸出層的權重\n",
    "w_out = np.array([[1.5,1.0,0.5],\n",
    "                  [0.5,1.0,1.5],\n",
    "                  [1.0,1.5,1.5],\n",
    "                  [2.0,1.5,0.5]])\n",
    "w_out.shape"
   ]
  },
  {
   "cell_type": "code",
   "execution_count": 49,
   "id": "a7040c25-fa39-40ca-845b-9bd2dcd9dd56",
   "metadata": {},
   "outputs": [
    {
     "data": {
      "text/plain": [
       "(3,)"
      ]
     },
     "execution_count": 49,
     "metadata": {},
     "output_type": "execute_result"
    }
   ],
   "source": [
    "#偏置\n",
    "b_out = np.array([1.0,2.0,1.5])\n",
    "b_out.shape"
   ]
  },
  {
   "cell_type": "code",
   "execution_count": 50,
   "id": "30513f55-2257-412e-ae3b-51b522568363",
   "metadata": {},
   "outputs": [
    {
     "name": "stdout",
     "output_type": "stream",
     "text": [
      "[6.  7.  5.5]\n",
      "(3,)\n"
     ]
    }
   ],
   "source": [
    "#輸出層加權\n",
    "z_out = np.dot(h3,w_out)+b_out\n",
    "print(z_out)\n",
    "print(z_out.shape)"
   ]
  },
  {
   "cell_type": "code",
   "execution_count": 51,
   "id": "d0690625-c7e8-4de6-a32a-20c080b818f9",
   "metadata": {},
   "outputs": [
    {
     "name": "stdout",
     "output_type": "stream",
     "text": [
      "[0.2312239  0.62853172 0.14024438]\n",
      "(3,)\n"
     ]
    }
   ],
   "source": [
    "#使用激發函數\n",
    "y_hat = softmax(z_out)\n",
    "print(y_hat)\n",
    "print(y_hat.shape)"
   ]
  }
 ],
 "metadata": {
  "kernelspec": {
   "display_name": "Python 3 (ipykernel)",
   "language": "python",
   "name": "python3"
  },
  "language_info": {
   "codemirror_mode": {
    "name": "ipython",
    "version": 3
   },
   "file_extension": ".py",
   "mimetype": "text/x-python",
   "name": "python",
   "nbconvert_exporter": "python",
   "pygments_lexer": "ipython3",
   "version": "3.12.9"
  }
 },
 "nbformat": 4,
 "nbformat_minor": 5
}
