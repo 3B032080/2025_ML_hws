{
  "nbformat": 4,
  "nbformat_minor": 0,
  "metadata": {
    "colab": {
      "provenance": []
    },
    "kernelspec": {
      "name": "python3",
      "display_name": "Python 3"
    },
    "language_info": {
      "name": "python"
    }
  },
  "cells": [
    {
      "cell_type": "markdown",
      "source": [
        "第二題"
      ],
      "metadata": {
        "id": "T1eLSmosrBcR"
      }
    },
    {
      "cell_type": "code",
      "execution_count": 1,
      "metadata": {
        "id": "2CW5oTxHqaaG"
      },
      "outputs": [],
      "source": [
        "import numpy as np"
      ]
    },
    {
      "cell_type": "code",
      "source": [],
      "metadata": {
        "id": "T9aNVnrLrBFJ"
      },
      "execution_count": null,
      "outputs": []
    },
    {
      "cell_type": "markdown",
      "source": [],
      "metadata": {
        "id": "mKNJjuSJrAYu"
      }
    },
    {
      "cell_type": "code",
      "source": [
        "h0 = np.array([0, 0, 0, 0])\n",
        "h0"
      ],
      "metadata": {
        "colab": {
          "base_uri": "https://localhost:8080/"
        },
        "id": "tWicDb-QqgVL",
        "outputId": "bbe0fdcb-bcf6-4553-bd21-1b20a86480cc"
      },
      "execution_count": 2,
      "outputs": [
        {
          "output_type": "execute_result",
          "data": {
            "text/plain": [
              "array([0, 0, 0, 0])"
            ]
          },
          "metadata": {},
          "execution_count": 2
        }
      ]
    },
    {
      "cell_type": "code",
      "source": [
        "X = np.random.randint(0, 10, size=(3,3))\n",
        "X"
      ],
      "metadata": {
        "colab": {
          "base_uri": "https://localhost:8080/"
        },
        "id": "6Nccb07Mqjpy",
        "outputId": "ca071a4d-e760-46d3-e261-68be9883546e"
      },
      "execution_count": 3,
      "outputs": [
        {
          "output_type": "execute_result",
          "data": {
            "text/plain": [
              "array([[4, 0, 1],\n",
              "       [3, 9, 1],\n",
              "       [3, 4, 4]])"
            ]
          },
          "metadata": {},
          "execution_count": 3
        }
      ]
    },
    {
      "cell_type": "code",
      "source": [
        "x1 = X[0]\n",
        "x2 = X[1]\n",
        "x3 = X[2]"
      ],
      "metadata": {
        "id": "Xsl4hBECqmC8"
      },
      "execution_count": 4,
      "outputs": []
    },
    {
      "cell_type": "code",
      "source": [
        "x1, x2, x3"
      ],
      "metadata": {
        "colab": {
          "base_uri": "https://localhost:8080/"
        },
        "id": "0dbzdmxHqoSm",
        "outputId": "99cf68d8-f0aa-41bf-c8cb-18e34dc933ac"
      },
      "execution_count": 5,
      "outputs": [
        {
          "output_type": "execute_result",
          "data": {
            "text/plain": [
              "(array([4, 0, 1]), array([3, 9, 1]), array([3, 4, 4]))"
            ]
          },
          "metadata": {},
          "execution_count": 5
        }
      ]
    },
    {
      "cell_type": "code",
      "source": [
        "Wx = np.array([[1, -1, 0, 0.5], [2, 0, -1, 3], [1.5, 1, 2, -1]])\n",
        "Wh = np.array([[1.2, 0.3, 0.1, 0.6], [0.4, 2, 1, 0.1], [0.2, 1.3, 0.7, 1.6], [2.4, 0.2, 0.1, 0.7]])\n",
        "b = np.array([0.3, 0.8, 0.5, 0.2])"
      ],
      "metadata": {
        "id": "ThAPusMyqrdR"
      },
      "execution_count": 6,
      "outputs": []
    },
    {
      "cell_type": "code",
      "source": [
        "# 給x1, h0\n",
        "z1 = np.dot(x1, Wx) + np.dot(h0, Wh) + b\n",
        "z1"
      ],
      "metadata": {
        "colab": {
          "base_uri": "https://localhost:8080/"
        },
        "id": "Robed-UequjR",
        "outputId": "2e3cdfb2-6ade-404b-a89e-ea6f9eed5825"
      },
      "execution_count": 7,
      "outputs": [
        {
          "output_type": "execute_result",
          "data": {
            "text/plain": [
              "array([ 5.8, -2.2,  2.5,  1.2])"
            ]
          },
          "metadata": {},
          "execution_count": 7
        }
      ]
    },
    {
      "cell_type": "code",
      "source": [
        "\n",
        "h1 = np.tanh(z1)\n",
        "h1"
      ],
      "metadata": {
        "colab": {
          "base_uri": "https://localhost:8080/"
        },
        "id": "myS8NUrrqwen",
        "outputId": "01f64ea3-90f7-4438-d5b6-93477574cb1d"
      },
      "execution_count": 8,
      "outputs": [
        {
          "output_type": "execute_result",
          "data": {
            "text/plain": [
              "array([ 0.99998167, -0.97574313,  0.9866143 ,  0.83365461])"
            ]
          },
          "metadata": {},
          "execution_count": 8
        }
      ]
    },
    {
      "cell_type": "code",
      "source": [
        "# 給x2, h1\n",
        "z2 = np.dot(x2, Wx) + np.dot(h1, Wh) + b\n",
        "z2\n",
        ""
      ],
      "metadata": {
        "colab": {
          "base_uri": "https://localhost:8080/"
        },
        "id": "bZbC2ltrqzLY",
        "outputId": "19b25be9-1f14-473a-dd34-a62507163383"
      },
      "execution_count": 10,
      "outputs": [
        {
          "output_type": "execute_result",
          "data": {
            "text/plain": [
              "array([25.80777467, -1.40216225, -6.60174949, 30.36455579])"
            ]
          },
          "metadata": {},
          "execution_count": 10
        }
      ]
    },
    {
      "cell_type": "code",
      "source": [
        "h2 = np.tanh(z2)\n",
        "h2"
      ],
      "metadata": {
        "colab": {
          "base_uri": "https://localhost:8080/"
        },
        "id": "xJRJIqcyq0o_",
        "outputId": "1f6d44b8-d65b-468a-83af-bc9e839ec272"
      },
      "execution_count": 11,
      "outputs": [
        {
          "output_type": "execute_result",
          "data": {
            "text/plain": [
              "array([ 1.        , -0.88581813, -0.99999631,  1.        ])"
            ]
          },
          "metadata": {},
          "execution_count": 11
        }
      ]
    },
    {
      "cell_type": "code",
      "source": [
        "# 給x3, h2\n",
        "z3 = np.dot(x3, Wx) + np.dot(h2, Wh) + b\n",
        "z3"
      ],
      "metadata": {
        "colab": {
          "base_uri": "https://localhost:8080/"
        },
        "id": "y73wN3YVq2Gw",
        "outputId": "3355044d-ad04-45d8-bcf5-3bd7424b49b6"
      },
      "execution_count": 12,
      "outputs": [
        {
          "output_type": "execute_result",
          "data": {
            "text/plain": [
              "array([20.34567349, -0.77163147,  3.11418445,  9.31142409])"
            ]
          },
          "metadata": {},
          "execution_count": 12
        }
      ]
    },
    {
      "cell_type": "code",
      "source": [
        "h3 = np.tanh(z3)\n",
        "h3"
      ],
      "metadata": {
        "colab": {
          "base_uri": "https://localhost:8080/"
        },
        "id": "-N6m86wIq3h_",
        "outputId": "533ccc96-9561-44e3-93f6-01b0b928a34a"
      },
      "execution_count": 13,
      "outputs": [
        {
          "output_type": "execute_result",
          "data": {
            "text/plain": [
              "array([ 1.        , -0.64787712,  0.99606243,  0.99999998])"
            ]
          },
          "metadata": {},
          "execution_count": 13
        }
      ]
    },
    {
      "cell_type": "code",
      "source": [],
      "metadata": {
        "id": "xuLvORRhrItJ"
      },
      "execution_count": null,
      "outputs": []
    },
    {
      "cell_type": "markdown",
      "source": [
        "第三題"
      ],
      "metadata": {
        "id": "KRWucOwEq7ZT"
      }
    },
    {
      "cell_type": "code",
      "source": [
        "S3 = np.array([2, 5, 3, 1])\n",
        "S3"
      ],
      "metadata": {
        "colab": {
          "base_uri": "https://localhost:8080/"
        },
        "id": "Dutqn4fiq5iH",
        "outputId": "98cf7fd8-2a43-4b13-fbcd-1bad3a2de87a"
      },
      "execution_count": 9,
      "outputs": [
        {
          "output_type": "execute_result",
          "data": {
            "text/plain": [
              "array([2, 5, 3, 1])"
            ]
          },
          "metadata": {},
          "execution_count": 9
        }
      ]
    },
    {
      "cell_type": "code",
      "source": [
        "e1 = np.dot(S3, h1)\n",
        "e2 = np.dot(S3, h2)\n",
        "e3 = np.dot(S3, h3)\n",
        "e = np.array([e1, e2, e3])\n",
        "e"
      ],
      "metadata": {
        "colab": {
          "base_uri": "https://localhost:8080/"
        },
        "id": "cv32FpWErJp3",
        "outputId": "4e06584b-990e-421b-d289-ebd47418774d"
      },
      "execution_count": 14,
      "outputs": [
        {
          "output_type": "execute_result",
          "data": {
            "text/plain": [
              "array([ 0.91474519, -4.42907959,  2.7488017 ])"
            ]
          },
          "metadata": {},
          "execution_count": 14
        }
      ]
    },
    {
      "cell_type": "code",
      "source": [
        "def softmax_0(x): # x是一個向量\n",
        "    c=np.max(x)\n",
        "    x = x - c\n",
        "    return np.exp(x) / np.sum(np.exp(x))"
      ],
      "metadata": {
        "id": "4NwhXdBCrMqG"
      },
      "execution_count": 15,
      "outputs": []
    },
    {
      "cell_type": "code",
      "source": [
        "def softmax(x): # x 可以是一個向量或矩陣(多個向量)\n",
        "    x = x - np.max(x, axis=-1, keepdims=True)\n",
        "    return np.exp(x) / np.sum(np.exp(x), axis=-1, keepdims=True)\n",
        ""
      ],
      "metadata": {
        "id": "LBQp87hRrOJ1"
      },
      "execution_count": 16,
      "outputs": []
    },
    {
      "cell_type": "code",
      "source": [
        "alpha = softmax(e)\n",
        "alpha"
      ],
      "metadata": {
        "colab": {
          "base_uri": "https://localhost:8080/"
        },
        "id": "BZC6JWR3rQuS",
        "outputId": "0f24e143-de2e-4f1d-9f35-84434615871b"
      },
      "execution_count": 17,
      "outputs": [
        {
          "output_type": "execute_result",
          "data": {
            "text/plain": [
              "array([1.37665134e-01, 6.57703798e-04, 8.61677162e-01])"
            ]
          },
          "metadata": {},
          "execution_count": 17
        }
      ]
    },
    {
      "cell_type": "code",
      "source": [
        "h = np.array([h1, h2, h3])\n",
        ""
      ],
      "metadata": {
        "id": "Gixvq2X8rSPY"
      },
      "execution_count": 18,
      "outputs": []
    },
    {
      "cell_type": "code",
      "source": [
        "c3 = np.dot(alpha, h)\n",
        "c3"
      ],
      "metadata": {
        "colab": {
          "base_uri": "https://localhost:8080/"
        },
        "id": "fX2v_MEOrT_F",
        "outputId": "3d503c2f-2e04-4823-8c8f-21fbdde62422"
      },
      "execution_count": 19,
      "outputs": [
        {
          "output_type": "execute_result",
          "data": {
            "text/plain": [
              "array([ 0.99999748, -0.69316933,  0.99344894,  0.97710003])"
            ]
          },
          "metadata": {},
          "execution_count": 19
        }
      ]
    },
    {
      "cell_type": "markdown",
      "source": [
        "第4題"
      ],
      "metadata": {
        "id": "nQ8dmYLNrW1t"
      }
    },
    {
      "cell_type": "code",
      "source": [
        "WQ = np.array([[0, 0, 1], [1, 0, 0], [0, 0, 1]])\n",
        "WK = np.array([[1, 0, 1], [0, 1, 1], [0, 1, 0]])\n",
        "WV = np.array([[0, 2, 1], [1, 0, 3], [1, 0, 1]])"
      ],
      "metadata": {
        "id": "RscB0O-1rXg9"
      },
      "execution_count": 20,
      "outputs": []
    },
    {
      "cell_type": "code",
      "source": [
        "Q = np.dot(X, WQ)\n",
        "Q"
      ],
      "metadata": {
        "colab": {
          "base_uri": "https://localhost:8080/"
        },
        "id": "BhAPZUwlrZCW",
        "outputId": "ea04178a-9c46-4062-c411-365b2653e633"
      },
      "execution_count": 21,
      "outputs": [
        {
          "output_type": "execute_result",
          "data": {
            "text/plain": [
              "array([[0, 0, 5],\n",
              "       [9, 0, 4],\n",
              "       [4, 0, 7]])"
            ]
          },
          "metadata": {},
          "execution_count": 21
        }
      ]
    },
    {
      "cell_type": "code",
      "source": [
        "K = np.dot(X, WK)\n",
        "K"
      ],
      "metadata": {
        "colab": {
          "base_uri": "https://localhost:8080/"
        },
        "id": "anVj1lhQrc8l",
        "outputId": "bd7aadbb-faa9-4f5b-8f7f-8224cc384d09"
      },
      "execution_count": 22,
      "outputs": [
        {
          "output_type": "execute_result",
          "data": {
            "text/plain": [
              "array([[ 4,  1,  4],\n",
              "       [ 3, 10, 12],\n",
              "       [ 3,  8,  7]])"
            ]
          },
          "metadata": {},
          "execution_count": 22
        }
      ]
    },
    {
      "cell_type": "code",
      "source": [
        "V = np.dot(X, WV)\n",
        "V"
      ],
      "metadata": {
        "colab": {
          "base_uri": "https://localhost:8080/"
        },
        "id": "dNhS6A5Wrego",
        "outputId": "b7ed49a1-7bb2-444c-aa20-d08ac8b7faa2"
      },
      "execution_count": 23,
      "outputs": [
        {
          "output_type": "execute_result",
          "data": {
            "text/plain": [
              "array([[ 1,  8,  5],\n",
              "       [10,  6, 31],\n",
              "       [ 8,  6, 19]])"
            ]
          },
          "metadata": {},
          "execution_count": 23
        }
      ]
    },
    {
      "cell_type": "code",
      "source": [
        "def Attention (Q, K, V):\n",
        "  d = 3\n",
        "  return np.dot(softmax(np.dot(Q, K.T) / np.sqrt(d)), V)"
      ],
      "metadata": {
        "id": "0g5Dq0M4rfIj"
      },
      "execution_count": 24,
      "outputs": []
    },
    {
      "cell_type": "code",
      "source": [
        "att = Attention(Q, K, V)\n",
        "att"
      ],
      "metadata": {
        "colab": {
          "base_uri": "https://localhost:8080/"
        },
        "id": "VzsAEpgTrg-8",
        "outputId": "5127353e-0f7f-48a6-c4a1-24cf61f852c7"
      },
      "execution_count": 25,
      "outputs": [
        {
          "output_type": "execute_result",
          "data": {
            "text/plain": [
              "array([[ 9.99999892,  6.        , 30.99999353],\n",
              "       [ 9.99996528,  6.00000342, 30.99983956],\n",
              "       [10.        ,  6.        , 30.99999998]])"
            ]
          },
          "metadata": {},
          "execution_count": 25
        }
      ]
    },
    {
      "cell_type": "code",
      "source": [
        "c1 = att[0]\n",
        "c1"
      ],
      "metadata": {
        "colab": {
          "base_uri": "https://localhost:8080/"
        },
        "id": "VsLCxv81rlDG",
        "outputId": "37e7b5f5-7c7c-40d3-faa3-629a3d19f77d"
      },
      "execution_count": 26,
      "outputs": [
        {
          "output_type": "execute_result",
          "data": {
            "text/plain": [
              "array([ 9.99999892,  6.        , 30.99999353])"
            ]
          },
          "metadata": {},
          "execution_count": 26
        }
      ]
    },
    {
      "cell_type": "code",
      "source": [
        "c2 = att[1]\n",
        "c2"
      ],
      "metadata": {
        "colab": {
          "base_uri": "https://localhost:8080/"
        },
        "id": "0-SY6XvOrnaq",
        "outputId": "7237dbf2-e303-4a7a-9134-95316f551287"
      },
      "execution_count": 27,
      "outputs": [
        {
          "output_type": "execute_result",
          "data": {
            "text/plain": [
              "array([ 9.99996528,  6.00000342, 30.99983956])"
            ]
          },
          "metadata": {},
          "execution_count": 27
        }
      ]
    },
    {
      "cell_type": "code",
      "source": [
        "c3 = att[2]\n",
        "c3"
      ],
      "metadata": {
        "id": "gX3TMt9crpBS",
        "outputId": "7d362d5a-1fa3-4c0d-d1e5-c2ce41c2862d",
        "colab": {
          "base_uri": "https://localhost:8080/"
        }
      },
      "execution_count": 28,
      "outputs": [
        {
          "output_type": "execute_result",
          "data": {
            "text/plain": [
              "array([10.        ,  6.        , 30.99999998])"
            ]
          },
          "metadata": {},
          "execution_count": 28
        }
      ]
    }
  ]
}