{
 "cells": [
  {
   "cell_type": "code",
   "execution_count": null,
   "id": "97584ab9-0743-4a91-936b-060172260b60",
   "metadata": {},
   "outputs": [],
   "source": []
  }
 ],
 "metadata": {
  "kernelspec": {
   "display_name": "",
   "name": ""
  },
  "language_info": {
   "name": ""
  }
 },
 "nbformat": 4,
 "nbformat_minor": 5
}
