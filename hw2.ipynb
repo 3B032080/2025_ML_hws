{
 "cells": [
  {
   "cell_type": "code",
   "execution_count": 1,
   "id": "97584ab9-0743-4a91-936b-060172260b60",
   "metadata": {},
   "outputs": [],
   "source": [
    "import numpy as np\n",
    "import gradio as gr"
   ]
  },
  {
   "cell_type": "code",
   "execution_count": 2,
   "id": "4f3f7fd8-3bbb-430c-bccb-4f41c0a6f61b",
   "metadata": {},
   "outputs": [],
   "source": [
    "def relu(x):\n",
    "    return np.maximum(0, x)\n",
    "def sigmoid(x):\n",
    "    return 1/(1+np.exp(-x))\n",
    "def softmax(x):\n",
    "    c=np.max(x)\n",
    "    x = x - c\n",
    "    return np.exp(x) / np.sum(np.exp(x))"
   ]
  },
  {
   "cell_type": "code",
   "execution_count": 3,
   "id": "8ffd32e3-3dc1-45ee-9f7b-26f0c4826a40",
   "metadata": {},
   "outputs": [],
   "source": [
    "def cross_entropy_error(y, t):\n",
    "    if y.ndim == 1:\n",
    "        t = t.reshape(1, t.size)\n",
    "        y = y.reshape(1, y.size)\n",
    "\n",
    "    batch_size = y.shape[0]\n",
    "    return -np.sum(t * np.log(y + 1e-7)) / batch_size"
   ]
  },
  {
   "cell_type": "code",
   "execution_count": 7,
   "id": "314c1b20-522d-49c3-ae5c-41a2b1d6da2c",
   "metadata": {},
   "outputs": [],
   "source": [
    "X=np.array([[1.5, 1.5], [0.5, 1.0], [0.8, 0.3],[1.5, 0.4],[1.0, 1.3]])\n",
    "t=np.array([[1, 1, 0], [0, 1, 0], [1, 1, 1],[1, 0, 1],[0, 1, 1]]) #標籤"
   ]
  },
  {
   "cell_type": "code",
   "execution_count": 8,
   "id": "c5abc431-6701-486e-8d0b-14e9264ffb2f",
   "metadata": {},
   "outputs": [
    {
     "data": {
      "text/plain": [
       "(5, 2)"
      ]
     },
     "execution_count": 8,
     "metadata": {},
     "output_type": "execute_result"
    }
   ],
   "source": [
    "X.shape"
   ]
  },
  {
   "cell_type": "code",
   "execution_count": 9,
   "id": "a3c45414-ff5d-43aa-8ffc-2e88ba84feb2",
   "metadata": {},
   "outputs": [
    {
     "data": {
      "text/plain": [
       "array([[1.5, 1.5],\n",
       "       [0.5, 1. ],\n",
       "       [0.8, 0.3],\n",
       "       [1.5, 0.4],\n",
       "       [1. , 1.3]])"
      ]
     },
     "execution_count": 9,
     "metadata": {},
     "output_type": "execute_result"
    }
   ],
   "source": [
    "X"
   ]
  },
  {
   "cell_type": "code",
   "execution_count": 10,
   "id": "a7aab1c3-95c0-43df-94f1-8cee0552a2ce",
   "metadata": {},
   "outputs": [
    {
     "data": {
      "text/plain": [
       "(2, 5)"
      ]
     },
     "execution_count": 10,
     "metadata": {},
     "output_type": "execute_result"
    }
   ],
   "source": [
    "#第一隱藏層的權重\n",
    "w1 = np.array([[1.5,2.0,0.5,5.5,3.0],\n",
    "               [0.5,1.5,4.5,1.0,1.0]])\n",
    "w1.shape"
   ]
  },
  {
   "cell_type": "code",
   "execution_count": 11,
   "id": "d8e8ffc0-dbf9-4edb-8834-15c3ee80d376",
   "metadata": {},
   "outputs": [
    {
     "data": {
      "text/plain": [
       "(5,)"
      ]
     },
     "execution_count": 11,
     "metadata": {},
     "output_type": "execute_result"
    }
   ],
   "source": [
    "#偏置\n",
    "b1 = np.array([2.0,2.5,1.0,4.5,2.0])\n",
    "b1.shape"
   ]
  },
  {
   "cell_type": "code",
   "execution_count": 13,
   "id": "d4a23e6b-f333-4565-944b-e31e5bd910a3",
   "metadata": {},
   "outputs": [
    {
     "name": "stdout",
     "output_type": "stream",
     "text": [
      "[[ 5.    7.75  8.5  14.25  8.  ]\n",
      " [ 3.25  5.    5.75  8.25  4.5 ]\n",
      " [ 3.35  4.55  2.75  9.2   4.7 ]\n",
      " [ 4.45  6.1   3.55 13.15  6.9 ]\n",
      " [ 4.15  6.45  7.35 11.3   6.3 ]]\n",
      "(5, 5)\n"
     ]
    }
   ],
   "source": [
    "#第一隱藏層加權\n",
    "z1 = np.dot(X,w1)+b1\n",
    "print(z1)\n",
    "print(z1.shape)"
   ]
  },
  {
   "cell_type": "code",
   "execution_count": 14,
   "id": "010ef2f5-5340-4afb-a576-2780c046d931",
   "metadata": {},
   "outputs": [
    {
     "name": "stdout",
     "output_type": "stream",
     "text": [
      "[[ 5.    7.75  8.5  14.25  8.  ]\n",
      " [ 3.25  5.    5.75  8.25  4.5 ]\n",
      " [ 3.35  4.55  2.75  9.2   4.7 ]\n",
      " [ 4.45  6.1   3.55 13.15  6.9 ]\n",
      " [ 4.15  6.45  7.35 11.3   6.3 ]]\n",
      "(5, 5)\n"
     ]
    }
   ],
   "source": [
    "#使用激發函數\n",
    "h1 = relu(z1)\n",
    "print(h1)\n",
    "print(h1.shape)"
   ]
  },
  {
   "cell_type": "code",
   "execution_count": 15,
   "id": "31e541ff-f288-4087-855c-6655e5af120f",
   "metadata": {},
   "outputs": [
    {
     "data": {
      "text/plain": [
       "(5, 4)"
      ]
     },
     "execution_count": 15,
     "metadata": {},
     "output_type": "execute_result"
    }
   ],
   "source": [
    "#第二隱藏層的權重\n",
    "w2 = np.array([[1.5,0.5,0.5,-1.5],\n",
    "               [-2.5,0.0,2.5,2.0],\n",
    "               [-1.5,-1.0,3.0,-2.5],\n",
    "               [2.5,2.5,-1.0,1.0],\n",
    "               [-1.5,4.5,1.5,-1.5]])\n",
    "w2.shape"
   ]
  },
  {
   "cell_type": "code",
   "execution_count": 16,
   "id": "fb005a74-ec2c-4d4d-aba2-c2f6d9250c64",
   "metadata": {},
   "outputs": [
    {
     "data": {
      "text/plain": [
       "(4,)"
      ]
     },
     "execution_count": 16,
     "metadata": {},
     "output_type": "execute_result"
    }
   ],
   "source": [
    "#偏置\n",
    "b2 = np.array([2.5,1.0,2.5,1.0])\n",
    "b2.shape"
   ]
  },
  {
   "cell_type": "code",
   "execution_count": 17,
   "id": "4d506894-ab5c-4eab-a06f-7defa320e01a",
   "metadata": {},
   "outputs": [
    {
     "name": "stdout",
     "output_type": "stream",
     "text": [
      "[[  1.5    66.625  47.625 -10.   ]\n",
      " [  0.125  37.75   32.375  -6.75 ]\n",
      " [  7.975  44.075  21.65    0.35 ]\n",
      " [ 11.125  63.6    27.825   0.45 ]\n",
      " [  0.375  52.325  40.9    -8.85 ]]\n",
      "(5, 4)\n"
     ]
    }
   ],
   "source": [
    "#第二隱藏層加權\n",
    "z2 = np.dot(h1,w2)+b2\n",
    "print(z2)\n",
    "print(z2.shape)"
   ]
  },
  {
   "cell_type": "code",
   "execution_count": 18,
   "id": "05648f7e-4cab-4f35-a6a0-9efcd48fdf43",
   "metadata": {},
   "outputs": [
    {
     "name": "stdout",
     "output_type": "stream",
     "text": [
      "[[ 1.5   66.625 47.625  0.   ]\n",
      " [ 0.125 37.75  32.375  0.   ]\n",
      " [ 7.975 44.075 21.65   0.35 ]\n",
      " [11.125 63.6   27.825  0.45 ]\n",
      " [ 0.375 52.325 40.9    0.   ]]\n",
      "(5, 4)\n"
     ]
    }
   ],
   "source": [
    "#使用激發函數\n",
    "h2 = relu(z2)\n",
    "print(h2)\n",
    "print(h2.shape)"
   ]
  },
  {
   "cell_type": "code",
   "execution_count": 19,
   "id": "e73428cf-4220-4b51-8ffd-7923ffd40e15",
   "metadata": {},
   "outputs": [
    {
     "data": {
      "text/plain": [
       "(4, 4)"
      ]
     },
     "execution_count": 19,
     "metadata": {},
     "output_type": "execute_result"
    }
   ],
   "source": [
    "#第三隱藏層的權重\n",
    "w3 = np.array([[-0.5,0.5,1.5,1.5],\n",
    "               [0.5,2.0,2.5,1.0],\n",
    "               [0.5,2.0,1.0,1.5],\n",
    "               [-0.5,1.5,0.5,1.5]])\n",
    "w3.shape"
   ]
  },
  {
   "cell_type": "code",
   "execution_count": 20,
   "id": "54e41d39-2a00-432d-9d4a-926a31c8a355",
   "metadata": {},
   "outputs": [
    {
     "data": {
      "text/plain": [
       "(4,)"
      ]
     },
     "execution_count": 20,
     "metadata": {},
     "output_type": "execute_result"
    }
   ],
   "source": [
    "#偏置\n",
    "b3 = np.array([0.5,2.0,1.5,2.0])\n",
    "b3.shape"
   ]
  },
  {
   "cell_type": "code",
   "execution_count": 21,
   "id": "0b316026-472d-4dda-9c2c-903c2c928800",
   "metadata": {},
   "outputs": [
    {
     "name": "stdout",
     "output_type": "stream",
     "text": [
      "[[ 56.875  231.25   217.9375 142.3125]\n",
      " [ 35.5    142.3125 128.4375  88.5   ]\n",
      " [ 29.2    137.9625 145.475   91.0375]\n",
      " [ 40.425  191.0875 205.2375 124.7   ]\n",
      " [ 46.925  188.6375 173.775  116.2375]]\n",
      "(5, 4)\n"
     ]
    }
   ],
   "source": [
    "#第三隱藏層加權\n",
    "z3 = np.dot(h2,w3)+b3\n",
    "print(z3)\n",
    "print(z3.shape)"
   ]
  },
  {
   "cell_type": "code",
   "execution_count": 22,
   "id": "791134a5-63fa-442b-8fce-1deedaf92165",
   "metadata": {},
   "outputs": [
    {
     "name": "stdout",
     "output_type": "stream",
     "text": [
      "[[1. 1. 1. 1.]\n",
      " [1. 1. 1. 1.]\n",
      " [1. 1. 1. 1.]\n",
      " [1. 1. 1. 1.]\n",
      " [1. 1. 1. 1.]]\n",
      "(5, 4)\n"
     ]
    }
   ],
   "source": [
    "#使用激發函數\n",
    "h3 = sigmoid(z3)\n",
    "print(h3)\n",
    "print(h3.shape)"
   ]
  },
  {
   "cell_type": "code",
   "execution_count": 23,
   "id": "ee28be49-675e-40d5-af1b-0ef0bca47887",
   "metadata": {},
   "outputs": [
    {
     "data": {
      "text/plain": [
       "(4, 3)"
      ]
     },
     "execution_count": 23,
     "metadata": {},
     "output_type": "execute_result"
    }
   ],
   "source": [
    "#輸出層的權重\n",
    "w_out = np.array([[1.5,1.0,0.5],\n",
    "                  [0.5,1.0,1.5],\n",
    "                  [1.0,1.5,1.5],\n",
    "                  [2.0,1.5,0.5]])\n",
    "w_out.shape"
   ]
  },
  {
   "cell_type": "code",
   "execution_count": 24,
   "id": "c5b8811d-d4a8-4163-9ec3-f1968df1ca07",
   "metadata": {},
   "outputs": [
    {
     "data": {
      "text/plain": [
       "(3,)"
      ]
     },
     "execution_count": 24,
     "metadata": {},
     "output_type": "execute_result"
    }
   ],
   "source": [
    "#偏置\n",
    "b_out = np.array([1.0,2.0,1.5])\n",
    "b_out.shape"
   ]
  },
  {
   "cell_type": "code",
   "execution_count": 25,
   "id": "84591050-c0b6-4a4a-b431-feb83d2a7728",
   "metadata": {},
   "outputs": [
    {
     "name": "stdout",
     "output_type": "stream",
     "text": [
      "[[6.  7.  5.5]\n",
      " [6.  7.  5.5]\n",
      " [6.  7.  5.5]\n",
      " [6.  7.  5.5]\n",
      " [6.  7.  5.5]]\n",
      "(5, 3)\n"
     ]
    }
   ],
   "source": [
    "#輸出層加權\n",
    "z_out = np.dot(h3,w_out)+b_out\n",
    "print(z_out)\n",
    "print(z_out.shape)"
   ]
  },
  {
   "cell_type": "code",
   "execution_count": 26,
   "id": "f1eb86de-fbb4-4678-a719-ec11aa99ecf7",
   "metadata": {},
   "outputs": [
    {
     "name": "stdout",
     "output_type": "stream",
     "text": [
      "[[0.04624478 0.12570634 0.02804888]\n",
      " [0.04624478 0.12570634 0.02804888]\n",
      " [0.04624478 0.12570634 0.02804888]\n",
      " [0.04624478 0.12570634 0.02804888]\n",
      " [0.04624478 0.12570634 0.02804888]]\n",
      "(5, 3)\n"
     ]
    }
   ],
   "source": [
    "#使用激發函數\n",
    "y_hat = softmax(z_out)\n",
    "print(y_hat)\n",
    "print(y_hat.shape)"
   ]
  },
  {
   "cell_type": "code",
   "execution_count": null,
   "id": "6b545abf-5712-458c-ab6f-f96fecc45381",
   "metadata": {},
   "outputs": [],
   "source": []
  }
 ],
 "metadata": {
  "kernelspec": {
   "display_name": "Python 3 (ipykernel)",
   "language": "python",
   "name": "python3"
  },
  "language_info": {
   "codemirror_mode": {
    "name": "ipython",
    "version": 3
   },
   "file_extension": ".py",
   "mimetype": "text/x-python",
   "name": "python",
   "nbconvert_exporter": "python",
   "pygments_lexer": "ipython3",
   "version": "3.12.9"
  }
 },
 "nbformat": 4,
 "nbformat_minor": 5
}
