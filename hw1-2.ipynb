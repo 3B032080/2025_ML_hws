{
 "cells": [
  {
   "cell_type": "code",
   "execution_count": null,
   "id": "be386e4f-ff47-4346-a3ba-16886cb052e2",
   "metadata": {},
   "outputs": [],
   "source": []
  }
 ],
 "metadata": {
  "kernelspec": {
   "display_name": "",
   "name": ""
  },
  "language_info": {
   "name": ""
  }
 },
 "nbformat": 4,
 "nbformat_minor": 5
}
