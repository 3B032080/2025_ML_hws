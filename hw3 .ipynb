{
  "nbformat": 4,
  "nbformat_minor": 0,
  "metadata": {
    "colab": {
      "provenance": []
    },
    "kernelspec": {
      "name": "python3",
      "display_name": "Python 3"
    },
    "language_info": {
      "name": "python"
    }
  },
  "cells": [
    {
      "cell_type": "markdown",
      "source": [
        "# **資料預處理**\n",
        "\n"
      ],
      "metadata": {
        "id": "SoDSEN2d5-No"
      }
    },
    {
      "cell_type": "code",
      "execution_count": 1,
      "metadata": {
        "id": "fUaOOWVeiBiq"
      },
      "outputs": [],
      "source": [
        "import tensorflow as tf"
      ]
    },
    {
      "cell_type": "code",
      "source": [
        "tf.__version__"
      ],
      "metadata": {
        "colab": {
          "base_uri": "https://localhost:8080/",
          "height": 36
        },
        "id": "0CVBA0r8izrI",
        "outputId": "da6050e0-84d2-43d1-e413-dbb0862f7997"
      },
      "execution_count": 2,
      "outputs": [
        {
          "output_type": "execute_result",
          "data": {
            "text/plain": [
              "'2.18.0'"
            ],
            "application/vnd.google.colaboratory.intrinsic+json": {
              "type": "string"
            }
          },
          "metadata": {},
          "execution_count": 2
        }
      ]
    },
    {
      "cell_type": "code",
      "source": [
        "import numpy as np"
      ],
      "metadata": {
        "id": "oMJs3byyi_jZ"
      },
      "execution_count": 3,
      "outputs": []
    },
    {
      "cell_type": "code",
      "source": [
        "import pandas as pd"
      ],
      "metadata": {
        "id": "tXo53e0wjAdL"
      },
      "execution_count": 4,
      "outputs": []
    },
    {
      "cell_type": "code",
      "source": [
        "import matplotlib.pyplot as plt"
      ],
      "metadata": {
        "id": "wO2kunFZjD8E"
      },
      "execution_count": 5,
      "outputs": []
    },
    {
      "cell_type": "code",
      "source": [
        "from tensorflow.keras import utils  #用於分類資料轉換等 Keras 工具\n",
        "np.random.seed(10) #設定隨機種子，讓每次程式產生的隨機值都一致"
      ],
      "metadata": {
        "id": "Phwn6NCkjO08"
      },
      "execution_count": 6,
      "outputs": []
    },
    {
      "cell_type": "code",
      "source": [
        "from tensorflow.keras.datasets import fashion_mnist\n",
        "(x_train_image,y_train_label),\\\n",
        "(x_test_image,y_test_label)= fashion_mnist.load_data()\n",
        "\n",
        "\"\"\"\n",
        "          訓練資料                      測試資料\n",
        "(x_train_image,y_train_label),(x_test_image,y_test_label)\n",
        "      輸入         輸出           輸入         輸出\n",
        "\n",
        "載入 MNIST 資料集，這是含有 28×28 灰階手寫數字的圖像資料集（0～9）。\n",
        "\n",
        "x_train_image：訓練圖片（60000 筆）\n",
        "\n",
        "y_train_label：訓練標籤（60000 筆）\n",
        "\n",
        "x_test_image：測試圖片（10000 筆）\n",
        "\n",
        "y_test_label：測試標籤（10000 筆）\n",
        "\n",
        "\"\"\""
      ],
      "metadata": {
        "colab": {
          "base_uri": "https://localhost:8080/",
          "height": 209
        },
        "id": "3KyeFqfPjTrZ",
        "outputId": "636038b7-f5c6-45ad-db38-bab5fa2091b1"
      },
      "execution_count": 7,
      "outputs": [
        {
          "output_type": "stream",
          "name": "stdout",
          "text": [
            "Downloading data from https://storage.googleapis.com/tensorflow/tf-keras-datasets/train-labels-idx1-ubyte.gz\n",
            "\u001b[1m29515/29515\u001b[0m \u001b[32m━━━━━━━━━━━━━━━━━━━━\u001b[0m\u001b[37m\u001b[0m \u001b[1m0s\u001b[0m 0us/step\n",
            "Downloading data from https://storage.googleapis.com/tensorflow/tf-keras-datasets/train-images-idx3-ubyte.gz\n",
            "\u001b[1m26421880/26421880\u001b[0m \u001b[32m━━━━━━━━━━━━━━━━━━━━\u001b[0m\u001b[37m\u001b[0m \u001b[1m0s\u001b[0m 0us/step\n",
            "Downloading data from https://storage.googleapis.com/tensorflow/tf-keras-datasets/t10k-labels-idx1-ubyte.gz\n",
            "\u001b[1m5148/5148\u001b[0m \u001b[32m━━━━━━━━━━━━━━━━━━━━\u001b[0m\u001b[37m\u001b[0m \u001b[1m0s\u001b[0m 0us/step\n",
            "Downloading data from https://storage.googleapis.com/tensorflow/tf-keras-datasets/t10k-images-idx3-ubyte.gz\n",
            "\u001b[1m4422102/4422102\u001b[0m \u001b[32m━━━━━━━━━━━━━━━━━━━━\u001b[0m\u001b[37m\u001b[0m \u001b[1m0s\u001b[0m 0us/step\n"
          ]
        },
        {
          "output_type": "execute_result",
          "data": {
            "text/plain": [
              "'\\n          訓練資料                      測試資料\\n(x_train_image,y_train_label),(x_test_image,y_test_label)\\n      輸入         輸出           輸入         輸出\\n\\n載入 MNIST 資料集，這是含有 28×28 灰階手寫數字的圖像資料集（0～9）。\\n\\nx_train_image：訓練圖片（60000 筆）\\n\\ny_train_label：訓練標籤（60000 筆）\\n\\nx_test_image：測試圖片（10000 筆）\\n\\ny_test_label：測試標籤（10000 筆）\\n\\n'"
            ],
            "application/vnd.google.colaboratory.intrinsic+json": {
              "type": "string"
            }
          },
          "metadata": {},
          "execution_count": 7
        }
      ]
    },
    {
      "cell_type": "code",
      "source": [
        "x_Train = x_train_image.reshape(60000, 784).astype('float32')\n",
        "x_Test = x_test_image.reshape(10000, 784).astype('float32')\n",
        "\n",
        "\"\"\"\n",
        "將每張 28×28 的影像展平為 784 維向量（28×28 = 784）\n",
        "\n",
        "同時轉換為 float32 型別，以利後續處理與訓練。\n",
        "\"\"\""
      ],
      "metadata": {
        "colab": {
          "base_uri": "https://localhost:8080/",
          "height": 36
        },
        "id": "Uhi4vapDj_hW",
        "outputId": "cc207765-5734-424a-8b5d-4255d30dce62"
      },
      "execution_count": 8,
      "outputs": [
        {
          "output_type": "execute_result",
          "data": {
            "text/plain": [
              "'\\n將每張 28×28 的影像展平為 784 維向量（28×28 = 784）\\n\\n同時轉換為 float32 型別，以利後續處理與訓練。\\n'"
            ],
            "application/vnd.google.colaboratory.intrinsic+json": {
              "type": "string"
            }
          },
          "metadata": {},
          "execution_count": 8
        }
      ]
    },
    {
      "cell_type": "code",
      "source": [
        "x_Train_normalize = x_Train / 255\n",
        "x_Test_normalize = x_Test / 255\n",
        "\n",
        "#將像素值從 [0, 255] 範圍 正規化到 [0, 1]，這有助於神經網路更快收斂且更穩定。"
      ],
      "metadata": {
        "id": "7hZoT85MkgTf"
      },
      "execution_count": 9,
      "outputs": []
    },
    {
      "cell_type": "code",
      "source": [
        "y_Train_OneHot = utils.to_categorical(y_train_label)\n",
        "y_Test_OneHot = utils.to_categorical(y_test_label)\n",
        "\n",
        "\"\"\"\n",
        "將 數字標籤（0～9）轉為 One-Hot 編碼，例如：\n",
        "\n",
        "3 → [0 0 0 1 0 0 0 0 0 0]\n",
        "\n",
        "9 → [0 0 0 0 0 0 0 0 0 1]\n",
        "\n",
        "One-Hot 是訓練分類網路時常見的做法。\n",
        "\"\"\""
      ],
      "metadata": {
        "colab": {
          "base_uri": "https://localhost:8080/",
          "height": 36
        },
        "id": "m4OK-KD3koOS",
        "outputId": "ffa75a47-721a-44b3-e7d7-482741839b13"
      },
      "execution_count": 10,
      "outputs": [
        {
          "output_type": "execute_result",
          "data": {
            "text/plain": [
              "'\\n將 數字標籤（0～9）轉為 One-Hot 編碼，例如：\\n\\n3 → [0 0 0 1 0 0 0 0 0 0]\\n\\n9 → [0 0 0 0 0 0 0 0 0 1]\\n\\nOne-Hot 是訓練分類網路時常見的做法。\\n'"
            ],
            "application/vnd.google.colaboratory.intrinsic+json": {
              "type": "string"
            }
          },
          "metadata": {},
          "execution_count": 10
        }
      ]
    },
    {
      "cell_type": "markdown",
      "source": [
        "# **建立模型**"
      ],
      "metadata": {
        "id": "1l8hNhJg6VKT"
      }
    },
    {
      "cell_type": "code",
      "source": [
        "from tensorflow.keras.models import Sequential\n",
        "from tensorflow.keras.layers import Dense\n",
        "from keras.layers import Dropout\n",
        "from keras.optimizers import Adam\n",
        "from tensorflow.keras.callbacks import ReduceLROnPlateau"
      ],
      "metadata": {
        "id": "wSP-gzcBkvqf"
      },
      "execution_count": 11,
      "outputs": []
    },
    {
      "cell_type": "code",
      "source": [
        "lr_scheduler = ReduceLROnPlateau(\n",
        "    monitor='val_loss',\n",
        "    factor=0.5,       # 每次下降50%\n",
        "    patience=3,       # 如果3個epoch沒進步就調\n",
        "    verbose=1,\n",
        "    min_lr=1e-6       # 不會低於這個值\n",
        ")"
      ],
      "metadata": {
        "id": "7R9O25vNhXIP"
      },
      "execution_count": 12,
      "outputs": []
    },
    {
      "cell_type": "code",
      "source": [
        "model = Sequential()"
      ],
      "metadata": {
        "id": "O5erZIYG6kfl"
      },
      "execution_count": 13,
      "outputs": []
    },
    {
      "cell_type": "code",
      "source": [
        "model.add(Dense(\n",
        "    units=1024,                   # 該層的神經元數量為 256\n",
        "    input_dim=784,              # 輸入資料的維度是 784（常見於 28x28 圖片，例如 MNIST）\n",
        "    kernel_initializer='normal',# 權重初始化方式為常態分布（mean=0, std=1）\n",
        "    activation='relu'))         # 啟用函數使用 ReLU（修正線性單元）"
      ],
      "metadata": {
        "id": "S99PTXWT6k2N",
        "colab": {
          "base_uri": "https://localhost:8080/"
        },
        "outputId": "52cb48df-2a80-49bf-b6c7-7141e1de183a"
      },
      "execution_count": 14,
      "outputs": [
        {
          "output_type": "stream",
          "name": "stderr",
          "text": [
            "/usr/local/lib/python3.11/dist-packages/keras/src/layers/core/dense.py:87: UserWarning: Do not pass an `input_shape`/`input_dim` argument to a layer. When using Sequential models, prefer using an `Input(shape)` object as the first layer in the model instead.\n",
            "  super().__init__(activity_regularizer=activity_regularizer, **kwargs)\n"
          ]
        }
      ]
    },
    {
      "cell_type": "code",
      "source": [
        "model.add(Dropout(0.15))"
      ],
      "metadata": {
        "id": "ZMfNOOhRMk8v"
      },
      "execution_count": 15,
      "outputs": []
    },
    {
      "cell_type": "code",
      "source": [
        "model.add(Dense(\n",
        "    units = 512,\n",
        "    kernel_initializer='normal',\n",
        "    activation='relu'))"
      ],
      "metadata": {
        "id": "exd60N_0JNn-"
      },
      "execution_count": 16,
      "outputs": []
    },
    {
      "cell_type": "code",
      "source": [
        "model.add(Dropout(0.1))"
      ],
      "metadata": {
        "id": "keufruXhMmGy"
      },
      "execution_count": 17,
      "outputs": []
    },
    {
      "cell_type": "code",
      "source": [
        "model.add(Dense(units=10,\n",
        "                kernel_initializer='normal',\n",
        "                activation='softmax'))"
      ],
      "metadata": {
        "id": "WVbVa5U-6myF"
      },
      "execution_count": 18,
      "outputs": []
    },
    {
      "cell_type": "code",
      "source": [
        "print(model.summary())  # 檢查用"
      ],
      "metadata": {
        "colab": {
          "base_uri": "https://localhost:8080/",
          "height": 306
        },
        "id": "MOGN05WV6oeH",
        "outputId": "47684a7d-b4f8-4119-8abf-4f5add86f201"
      },
      "execution_count": 19,
      "outputs": [
        {
          "output_type": "display_data",
          "data": {
            "text/plain": [
              "\u001b[1mModel: \"sequential\"\u001b[0m\n"
            ],
            "text/html": [
              "<pre style=\"white-space:pre;overflow-x:auto;line-height:normal;font-family:Menlo,'DejaVu Sans Mono',consolas,'Courier New',monospace\"><span style=\"font-weight: bold\">Model: \"sequential\"</span>\n",
              "</pre>\n"
            ]
          },
          "metadata": {}
        },
        {
          "output_type": "display_data",
          "data": {
            "text/plain": [
              "┏━━━━━━━━━━━━━━━━━━━━━━━━━━━━━━━━━┳━━━━━━━━━━━━━━━━━━━━━━━━┳━━━━━━━━━━━━━━━┓\n",
              "┃\u001b[1m \u001b[0m\u001b[1mLayer (type)                   \u001b[0m\u001b[1m \u001b[0m┃\u001b[1m \u001b[0m\u001b[1mOutput Shape          \u001b[0m\u001b[1m \u001b[0m┃\u001b[1m \u001b[0m\u001b[1m      Param #\u001b[0m\u001b[1m \u001b[0m┃\n",
              "┡━━━━━━━━━━━━━━━━━━━━━━━━━━━━━━━━━╇━━━━━━━━━━━━━━━━━━━━━━━━╇━━━━━━━━━━━━━━━┩\n",
              "│ dense (\u001b[38;5;33mDense\u001b[0m)                   │ (\u001b[38;5;45mNone\u001b[0m, \u001b[38;5;34m1024\u001b[0m)           │       \u001b[38;5;34m803,840\u001b[0m │\n",
              "├─────────────────────────────────┼────────────────────────┼───────────────┤\n",
              "│ dropout (\u001b[38;5;33mDropout\u001b[0m)               │ (\u001b[38;5;45mNone\u001b[0m, \u001b[38;5;34m1024\u001b[0m)           │             \u001b[38;5;34m0\u001b[0m │\n",
              "├─────────────────────────────────┼────────────────────────┼───────────────┤\n",
              "│ dense_1 (\u001b[38;5;33mDense\u001b[0m)                 │ (\u001b[38;5;45mNone\u001b[0m, \u001b[38;5;34m512\u001b[0m)            │       \u001b[38;5;34m524,800\u001b[0m │\n",
              "├─────────────────────────────────┼────────────────────────┼───────────────┤\n",
              "│ dropout_1 (\u001b[38;5;33mDropout\u001b[0m)             │ (\u001b[38;5;45mNone\u001b[0m, \u001b[38;5;34m512\u001b[0m)            │             \u001b[38;5;34m0\u001b[0m │\n",
              "├─────────────────────────────────┼────────────────────────┼───────────────┤\n",
              "│ dense_2 (\u001b[38;5;33mDense\u001b[0m)                 │ (\u001b[38;5;45mNone\u001b[0m, \u001b[38;5;34m10\u001b[0m)             │         \u001b[38;5;34m5,130\u001b[0m │\n",
              "└─────────────────────────────────┴────────────────────────┴───────────────┘\n"
            ],
            "text/html": [
              "<pre style=\"white-space:pre;overflow-x:auto;line-height:normal;font-family:Menlo,'DejaVu Sans Mono',consolas,'Courier New',monospace\">┏━━━━━━━━━━━━━━━━━━━━━━━━━━━━━━━━━┳━━━━━━━━━━━━━━━━━━━━━━━━┳━━━━━━━━━━━━━━━┓\n",
              "┃<span style=\"font-weight: bold\"> Layer (type)                    </span>┃<span style=\"font-weight: bold\"> Output Shape           </span>┃<span style=\"font-weight: bold\">       Param # </span>┃\n",
              "┡━━━━━━━━━━━━━━━━━━━━━━━━━━━━━━━━━╇━━━━━━━━━━━━━━━━━━━━━━━━╇━━━━━━━━━━━━━━━┩\n",
              "│ dense (<span style=\"color: #0087ff; text-decoration-color: #0087ff\">Dense</span>)                   │ (<span style=\"color: #00d7ff; text-decoration-color: #00d7ff\">None</span>, <span style=\"color: #00af00; text-decoration-color: #00af00\">1024</span>)           │       <span style=\"color: #00af00; text-decoration-color: #00af00\">803,840</span> │\n",
              "├─────────────────────────────────┼────────────────────────┼───────────────┤\n",
              "│ dropout (<span style=\"color: #0087ff; text-decoration-color: #0087ff\">Dropout</span>)               │ (<span style=\"color: #00d7ff; text-decoration-color: #00d7ff\">None</span>, <span style=\"color: #00af00; text-decoration-color: #00af00\">1024</span>)           │             <span style=\"color: #00af00; text-decoration-color: #00af00\">0</span> │\n",
              "├─────────────────────────────────┼────────────────────────┼───────────────┤\n",
              "│ dense_1 (<span style=\"color: #0087ff; text-decoration-color: #0087ff\">Dense</span>)                 │ (<span style=\"color: #00d7ff; text-decoration-color: #00d7ff\">None</span>, <span style=\"color: #00af00; text-decoration-color: #00af00\">512</span>)            │       <span style=\"color: #00af00; text-decoration-color: #00af00\">524,800</span> │\n",
              "├─────────────────────────────────┼────────────────────────┼───────────────┤\n",
              "│ dropout_1 (<span style=\"color: #0087ff; text-decoration-color: #0087ff\">Dropout</span>)             │ (<span style=\"color: #00d7ff; text-decoration-color: #00d7ff\">None</span>, <span style=\"color: #00af00; text-decoration-color: #00af00\">512</span>)            │             <span style=\"color: #00af00; text-decoration-color: #00af00\">0</span> │\n",
              "├─────────────────────────────────┼────────────────────────┼───────────────┤\n",
              "│ dense_2 (<span style=\"color: #0087ff; text-decoration-color: #0087ff\">Dense</span>)                 │ (<span style=\"color: #00d7ff; text-decoration-color: #00d7ff\">None</span>, <span style=\"color: #00af00; text-decoration-color: #00af00\">10</span>)             │         <span style=\"color: #00af00; text-decoration-color: #00af00\">5,130</span> │\n",
              "└─────────────────────────────────┴────────────────────────┴───────────────┘\n",
              "</pre>\n"
            ]
          },
          "metadata": {}
        },
        {
          "output_type": "display_data",
          "data": {
            "text/plain": [
              "\u001b[1m Total params: \u001b[0m\u001b[38;5;34m1,333,770\u001b[0m (5.09 MB)\n"
            ],
            "text/html": [
              "<pre style=\"white-space:pre;overflow-x:auto;line-height:normal;font-family:Menlo,'DejaVu Sans Mono',consolas,'Courier New',monospace\"><span style=\"font-weight: bold\"> Total params: </span><span style=\"color: #00af00; text-decoration-color: #00af00\">1,333,770</span> (5.09 MB)\n",
              "</pre>\n"
            ]
          },
          "metadata": {}
        },
        {
          "output_type": "display_data",
          "data": {
            "text/plain": [
              "\u001b[1m Trainable params: \u001b[0m\u001b[38;5;34m1,333,770\u001b[0m (5.09 MB)\n"
            ],
            "text/html": [
              "<pre style=\"white-space:pre;overflow-x:auto;line-height:normal;font-family:Menlo,'DejaVu Sans Mono',consolas,'Courier New',monospace\"><span style=\"font-weight: bold\"> Trainable params: </span><span style=\"color: #00af00; text-decoration-color: #00af00\">1,333,770</span> (5.09 MB)\n",
              "</pre>\n"
            ]
          },
          "metadata": {}
        },
        {
          "output_type": "display_data",
          "data": {
            "text/plain": [
              "\u001b[1m Non-trainable params: \u001b[0m\u001b[38;5;34m0\u001b[0m (0.00 B)\n"
            ],
            "text/html": [
              "<pre style=\"white-space:pre;overflow-x:auto;line-height:normal;font-family:Menlo,'DejaVu Sans Mono',consolas,'Courier New',monospace\"><span style=\"font-weight: bold\"> Non-trainable params: </span><span style=\"color: #00af00; text-decoration-color: #00af00\">0</span> (0.00 B)\n",
              "</pre>\n"
            ]
          },
          "metadata": {}
        },
        {
          "output_type": "stream",
          "name": "stdout",
          "text": [
            "None\n"
          ]
        }
      ]
    },
    {
      "cell_type": "markdown",
      "source": [
        "# **訓練模型**"
      ],
      "metadata": {
        "id": "Gne6Xx-o7Y1u"
      }
    },
    {
      "cell_type": "code",
      "source": [
        "model.compile(\n",
        "    loss='categorical_crossentropy',  # 損失函數\n",
        "    optimizer= Adam(learning_rate = 0.001),                 # 最佳化器\n",
        "    metrics=['accuracy']             # 評估指標\n",
        ")"
      ],
      "metadata": {
        "id": "bxfV2C5q6sN4"
      },
      "execution_count": 20,
      "outputs": []
    },
    {
      "cell_type": "code",
      "source": [
        "train_history = model.fit(\n",
        "    x = x_Train_normalize,         # 訓練資料（特徵）→ 已經標準化\n",
        "    y = y_Train_OneHot,            # 訓練標籤（目標）→ One-hot 編碼\n",
        "    validation_split = 0.2,        # 20% 訓練資料作為驗證資料（不用額外給 validation set）\n",
        "    epochs = 40,                   # 訓練 40 輪（整份資料訓練 40 次）\n",
        "    batch_size = 400,              # 每批次送入 400 筆資料\n",
        "    verbose = 2,                   # 顯示訓練過程資訊（2 表示精簡模式：每輪顯示一行）\n",
        "    callbacks=[lr_scheduler]\n",
        ")"
      ],
      "metadata": {
        "colab": {
          "base_uri": "https://localhost:8080/"
        },
        "id": "VeeUrYS07ccr",
        "outputId": "2cb616fa-694e-4f9a-bd0d-2f059040ab32"
      },
      "execution_count": 21,
      "outputs": [
        {
          "output_type": "stream",
          "name": "stdout",
          "text": [
            "Epoch 1/40\n",
            "120/120 - 11s - 92ms/step - accuracy: 0.8003 - loss: 0.5651 - val_accuracy: 0.8550 - val_loss: 0.4032 - learning_rate: 1.0000e-03\n",
            "Epoch 2/40\n",
            "120/120 - 9s - 75ms/step - accuracy: 0.8626 - loss: 0.3792 - val_accuracy: 0.8712 - val_loss: 0.3589 - learning_rate: 1.0000e-03\n",
            "Epoch 3/40\n",
            "120/120 - 11s - 93ms/step - accuracy: 0.8748 - loss: 0.3416 - val_accuracy: 0.8778 - val_loss: 0.3316 - learning_rate: 1.0000e-03\n",
            "Epoch 4/40\n",
            "120/120 - 11s - 92ms/step - accuracy: 0.8865 - loss: 0.3109 - val_accuracy: 0.8774 - val_loss: 0.3299 - learning_rate: 1.0000e-03\n",
            "Epoch 5/40\n",
            "120/120 - 10s - 85ms/step - accuracy: 0.8923 - loss: 0.2920 - val_accuracy: 0.8777 - val_loss: 0.3491 - learning_rate: 1.0000e-03\n",
            "Epoch 6/40\n",
            "120/120 - 9s - 74ms/step - accuracy: 0.8942 - loss: 0.2808 - val_accuracy: 0.8855 - val_loss: 0.3122 - learning_rate: 1.0000e-03\n",
            "Epoch 7/40\n",
            "120/120 - 9s - 74ms/step - accuracy: 0.8996 - loss: 0.2640 - val_accuracy: 0.8928 - val_loss: 0.2977 - learning_rate: 1.0000e-03\n",
            "Epoch 8/40\n",
            "120/120 - 11s - 93ms/step - accuracy: 0.9054 - loss: 0.2517 - val_accuracy: 0.8893 - val_loss: 0.3046 - learning_rate: 1.0000e-03\n",
            "Epoch 9/40\n",
            "120/120 - 11s - 89ms/step - accuracy: 0.9072 - loss: 0.2454 - val_accuracy: 0.8905 - val_loss: 0.3054 - learning_rate: 1.0000e-03\n",
            "Epoch 10/40\n",
            "\n",
            "Epoch 10: ReduceLROnPlateau reducing learning rate to 0.0005000000237487257.\n",
            "120/120 - 9s - 74ms/step - accuracy: 0.9127 - loss: 0.2348 - val_accuracy: 0.8942 - val_loss: 0.3000 - learning_rate: 1.0000e-03\n",
            "Epoch 11/40\n",
            "120/120 - 10s - 85ms/step - accuracy: 0.9247 - loss: 0.2022 - val_accuracy: 0.8990 - val_loss: 0.2887 - learning_rate: 5.0000e-04\n",
            "Epoch 12/40\n",
            "120/120 - 10s - 85ms/step - accuracy: 0.9275 - loss: 0.1925 - val_accuracy: 0.8962 - val_loss: 0.2934 - learning_rate: 5.0000e-04\n",
            "Epoch 13/40\n",
            "120/120 - 11s - 95ms/step - accuracy: 0.9321 - loss: 0.1837 - val_accuracy: 0.9011 - val_loss: 0.2900 - learning_rate: 5.0000e-04\n",
            "Epoch 14/40\n",
            "\n",
            "Epoch 14: ReduceLROnPlateau reducing learning rate to 0.0002500000118743628.\n",
            "120/120 - 10s - 80ms/step - accuracy: 0.9329 - loss: 0.1793 - val_accuracy: 0.8976 - val_loss: 0.2961 - learning_rate: 5.0000e-04\n",
            "Epoch 15/40\n",
            "120/120 - 10s - 82ms/step - accuracy: 0.9407 - loss: 0.1616 - val_accuracy: 0.9022 - val_loss: 0.2840 - learning_rate: 2.5000e-04\n",
            "Epoch 16/40\n",
            "120/120 - 10s - 83ms/step - accuracy: 0.9424 - loss: 0.1556 - val_accuracy: 0.9040 - val_loss: 0.2828 - learning_rate: 2.5000e-04\n",
            "Epoch 17/40\n",
            "120/120 - 11s - 90ms/step - accuracy: 0.9442 - loss: 0.1506 - val_accuracy: 0.9006 - val_loss: 0.2920 - learning_rate: 2.5000e-04\n",
            "Epoch 18/40\n",
            "120/120 - 11s - 91ms/step - accuracy: 0.9462 - loss: 0.1468 - val_accuracy: 0.9032 - val_loss: 0.2920 - learning_rate: 2.5000e-04\n",
            "Epoch 19/40\n",
            "\n",
            "Epoch 19: ReduceLROnPlateau reducing learning rate to 0.0001250000059371814.\n",
            "120/120 - 10s - 85ms/step - accuracy: 0.9479 - loss: 0.1422 - val_accuracy: 0.9026 - val_loss: 0.2889 - learning_rate: 2.5000e-04\n",
            "Epoch 20/40\n",
            "120/120 - 9s - 76ms/step - accuracy: 0.9523 - loss: 0.1302 - val_accuracy: 0.9037 - val_loss: 0.2889 - learning_rate: 1.2500e-04\n",
            "Epoch 21/40\n",
            "120/120 - 9s - 79ms/step - accuracy: 0.9536 - loss: 0.1274 - val_accuracy: 0.9049 - val_loss: 0.2931 - learning_rate: 1.2500e-04\n",
            "Epoch 22/40\n",
            "\n",
            "Epoch 22: ReduceLROnPlateau reducing learning rate to 6.25000029685907e-05.\n",
            "120/120 - 11s - 94ms/step - accuracy: 0.9551 - loss: 0.1233 - val_accuracy: 0.9040 - val_loss: 0.2967 - learning_rate: 1.2500e-04\n",
            "Epoch 23/40\n",
            "120/120 - 11s - 91ms/step - accuracy: 0.9572 - loss: 0.1190 - val_accuracy: 0.9051 - val_loss: 0.2941 - learning_rate: 6.2500e-05\n",
            "Epoch 24/40\n",
            "120/120 - 9s - 79ms/step - accuracy: 0.9581 - loss: 0.1158 - val_accuracy: 0.9053 - val_loss: 0.2926 - learning_rate: 6.2500e-05\n",
            "Epoch 25/40\n",
            "\n",
            "Epoch 25: ReduceLROnPlateau reducing learning rate to 3.125000148429535e-05.\n",
            "120/120 - 10s - 82ms/step - accuracy: 0.9592 - loss: 0.1143 - val_accuracy: 0.9048 - val_loss: 0.2943 - learning_rate: 6.2500e-05\n",
            "Epoch 26/40\n",
            "120/120 - 10s - 83ms/step - accuracy: 0.9600 - loss: 0.1112 - val_accuracy: 0.9054 - val_loss: 0.2939 - learning_rate: 3.1250e-05\n",
            "Epoch 27/40\n",
            "120/120 - 10s - 86ms/step - accuracy: 0.9612 - loss: 0.1100 - val_accuracy: 0.9046 - val_loss: 0.2957 - learning_rate: 3.1250e-05\n",
            "Epoch 28/40\n",
            "\n",
            "Epoch 28: ReduceLROnPlateau reducing learning rate to 1.5625000742147677e-05.\n",
            "120/120 - 10s - 84ms/step - accuracy: 0.9622 - loss: 0.1088 - val_accuracy: 0.9047 - val_loss: 0.2952 - learning_rate: 3.1250e-05\n",
            "Epoch 29/40\n",
            "120/120 - 10s - 80ms/step - accuracy: 0.9620 - loss: 0.1069 - val_accuracy: 0.9055 - val_loss: 0.2953 - learning_rate: 1.5625e-05\n",
            "Epoch 30/40\n",
            "120/120 - 9s - 75ms/step - accuracy: 0.9625 - loss: 0.1055 - val_accuracy: 0.9051 - val_loss: 0.2959 - learning_rate: 1.5625e-05\n",
            "Epoch 31/40\n",
            "\n",
            "Epoch 31: ReduceLROnPlateau reducing learning rate to 7.812500371073838e-06.\n",
            "120/120 - 11s - 91ms/step - accuracy: 0.9617 - loss: 0.1072 - val_accuracy: 0.9060 - val_loss: 0.2964 - learning_rate: 1.5625e-05\n",
            "Epoch 32/40\n",
            "120/120 - 11s - 93ms/step - accuracy: 0.9631 - loss: 0.1054 - val_accuracy: 0.9057 - val_loss: 0.2964 - learning_rate: 7.8125e-06\n",
            "Epoch 33/40\n",
            "120/120 - 10s - 82ms/step - accuracy: 0.9637 - loss: 0.1047 - val_accuracy: 0.9057 - val_loss: 0.2969 - learning_rate: 7.8125e-06\n",
            "Epoch 34/40\n",
            "\n",
            "Epoch 34: ReduceLROnPlateau reducing learning rate to 3.906250185536919e-06.\n",
            "120/120 - 10s - 86ms/step - accuracy: 0.9640 - loss: 0.1045 - val_accuracy: 0.9056 - val_loss: 0.2978 - learning_rate: 7.8125e-06\n",
            "Epoch 35/40\n",
            "120/120 - 9s - 73ms/step - accuracy: 0.9636 - loss: 0.1044 - val_accuracy: 0.9057 - val_loss: 0.2971 - learning_rate: 3.9063e-06\n",
            "Epoch 36/40\n",
            "120/120 - 10s - 83ms/step - accuracy: 0.9630 - loss: 0.1043 - val_accuracy: 0.9054 - val_loss: 0.2971 - learning_rate: 3.9063e-06\n",
            "Epoch 37/40\n",
            "\n",
            "Epoch 37: ReduceLROnPlateau reducing learning rate to 1.9531250927684596e-06.\n",
            "120/120 - 12s - 98ms/step - accuracy: 0.9639 - loss: 0.1031 - val_accuracy: 0.9054 - val_loss: 0.2973 - learning_rate: 3.9063e-06\n",
            "Epoch 38/40\n",
            "120/120 - 10s - 80ms/step - accuracy: 0.9631 - loss: 0.1032 - val_accuracy: 0.9054 - val_loss: 0.2972 - learning_rate: 1.9531e-06\n",
            "Epoch 39/40\n",
            "120/120 - 10s - 83ms/step - accuracy: 0.9633 - loss: 0.1037 - val_accuracy: 0.9056 - val_loss: 0.2974 - learning_rate: 1.9531e-06\n",
            "Epoch 40/40\n",
            "\n",
            "Epoch 40: ReduceLROnPlateau reducing learning rate to 1e-06.\n",
            "120/120 - 9s - 75ms/step - accuracy: 0.9638 - loss: 0.1031 - val_accuracy: 0.9053 - val_loss: 0.2975 - learning_rate: 1.9531e-06\n"
          ]
        }
      ]
    },
    {
      "cell_type": "markdown",
      "source": [
        "# **以圖形顯示訓練過程**"
      ],
      "metadata": {
        "id": "M6WaPlr68qzs"
      }
    },
    {
      "cell_type": "code",
      "source": [
        "train_history.history"
      ],
      "metadata": {
        "colab": {
          "base_uri": "https://localhost:8080/"
        },
        "id": "uUwKrue07zGk",
        "outputId": "0a356ee0-1e56-4ba6-d019-07e1ecfdcfb3"
      },
      "execution_count": 22,
      "outputs": [
        {
          "output_type": "execute_result",
          "data": {
            "text/plain": [
              "{'accuracy': [0.8003333210945129,\n",
              "  0.8626041412353516,\n",
              "  0.874750018119812,\n",
              "  0.8865000009536743,\n",
              "  0.8923333287239075,\n",
              "  0.8942291736602783,\n",
              "  0.8995833396911621,\n",
              "  0.9053750038146973,\n",
              "  0.9072083234786987,\n",
              "  0.9127083420753479,\n",
              "  0.9246875047683716,\n",
              "  0.9274791479110718,\n",
              "  0.9321041703224182,\n",
              "  0.932854175567627,\n",
              "  0.9407291412353516,\n",
              "  0.9423750042915344,\n",
              "  0.9442499876022339,\n",
              "  0.9462291598320007,\n",
              "  0.9478958249092102,\n",
              "  0.9523333311080933,\n",
              "  0.9536041617393494,\n",
              "  0.9551041722297668,\n",
              "  0.9571874737739563,\n",
              "  0.9580833315849304,\n",
              "  0.9591666460037231,\n",
              "  0.9600208401679993,\n",
              "  0.961187481880188,\n",
              "  0.9621666669845581,\n",
              "  0.9619791507720947,\n",
              "  0.9624583125114441,\n",
              "  0.9617083072662354,\n",
              "  0.9630625247955322,\n",
              "  0.9636666774749756,\n",
              "  0.964020848274231,\n",
              "  0.9635833501815796,\n",
              "  0.9629583358764648,\n",
              "  0.9638749957084656,\n",
              "  0.9631249904632568,\n",
              "  0.9632708430290222,\n",
              "  0.9637708067893982],\n",
              " 'loss': [0.5650771260261536,\n",
              "  0.37915515899658203,\n",
              "  0.34158581495285034,\n",
              "  0.31085509061813354,\n",
              "  0.29198580980300903,\n",
              "  0.2808261513710022,\n",
              "  0.26396802067756653,\n",
              "  0.2516598403453827,\n",
              "  0.24541141092777252,\n",
              "  0.23478977382183075,\n",
              "  0.2021544873714447,\n",
              "  0.19253769516944885,\n",
              "  0.18370306491851807,\n",
              "  0.1793016940355301,\n",
              "  0.16164666414260864,\n",
              "  0.15558631718158722,\n",
              "  0.15056176483631134,\n",
              "  0.14677342772483826,\n",
              "  0.1421739161014557,\n",
              "  0.1302136778831482,\n",
              "  0.12736985087394714,\n",
              "  0.12330105900764465,\n",
              "  0.11897487193346024,\n",
              "  0.11580707877874374,\n",
              "  0.1142955794930458,\n",
              "  0.11118695139884949,\n",
              "  0.11001384258270264,\n",
              "  0.10884872078895569,\n",
              "  0.10692952573299408,\n",
              "  0.10554515570402145,\n",
              "  0.1071808785200119,\n",
              "  0.10540256649255753,\n",
              "  0.10469409078359604,\n",
              "  0.10448498278856277,\n",
              "  0.10435472428798676,\n",
              "  0.10434290766716003,\n",
              "  0.10306982696056366,\n",
              "  0.10317513346672058,\n",
              "  0.10368727892637253,\n",
              "  0.10314158350229263],\n",
              " 'val_accuracy': [0.8550000190734863,\n",
              "  0.8712499737739563,\n",
              "  0.8778333067893982,\n",
              "  0.8774166703224182,\n",
              "  0.8776666522026062,\n",
              "  0.8855000138282776,\n",
              "  0.8927500247955322,\n",
              "  0.8893333077430725,\n",
              "  0.890500009059906,\n",
              "  0.8941666483879089,\n",
              "  0.8989999890327454,\n",
              "  0.8961666822433472,\n",
              "  0.9010833501815796,\n",
              "  0.8975833058357239,\n",
              "  0.9021666646003723,\n",
              "  0.9039999842643738,\n",
              "  0.9005833268165588,\n",
              "  0.903166651725769,\n",
              "  0.9025833606719971,\n",
              "  0.9036666750907898,\n",
              "  0.9049166440963745,\n",
              "  0.9039999842643738,\n",
              "  0.9050833582878113,\n",
              "  0.9053333401679993,\n",
              "  0.9048333168029785,\n",
              "  0.9054166674613953,\n",
              "  0.9045833349227905,\n",
              "  0.9047499895095825,\n",
              "  0.9054999947547913,\n",
              "  0.9050833582878113,\n",
              "  0.906000018119812,\n",
              "  0.9056666493415833,\n",
              "  0.9057499766349792,\n",
              "  0.9055833220481873,\n",
              "  0.9057499766349792,\n",
              "  0.9054166674613953,\n",
              "  0.9054166674613953,\n",
              "  0.9054166674613953,\n",
              "  0.9055833220481873,\n",
              "  0.9053333401679993],\n",
              " 'val_loss': [0.40322673320770264,\n",
              "  0.35889095067977905,\n",
              "  0.33164724707603455,\n",
              "  0.32989487051963806,\n",
              "  0.34914979338645935,\n",
              "  0.3122282922267914,\n",
              "  0.2977235019207001,\n",
              "  0.30456575751304626,\n",
              "  0.30535826086997986,\n",
              "  0.30004915595054626,\n",
              "  0.2887379825115204,\n",
              "  0.2934032380580902,\n",
              "  0.2900315821170807,\n",
              "  0.29605165123939514,\n",
              "  0.28396809101104736,\n",
              "  0.2828332483768463,\n",
              "  0.2920384109020233,\n",
              "  0.29202112555503845,\n",
              "  0.28890886902809143,\n",
              "  0.28891831636428833,\n",
              "  0.29310110211372375,\n",
              "  0.2967473864555359,\n",
              "  0.29412946105003357,\n",
              "  0.2926163077354431,\n",
              "  0.2942572236061096,\n",
              "  0.29387301206588745,\n",
              "  0.29572704434394836,\n",
              "  0.2951675355434418,\n",
              "  0.29528307914733887,\n",
              "  0.2959001362323761,\n",
              "  0.2963838577270508,\n",
              "  0.29640886187553406,\n",
              "  0.29693174362182617,\n",
              "  0.29779061675071716,\n",
              "  0.29707539081573486,\n",
              "  0.2970804274082184,\n",
              "  0.29727479815483093,\n",
              "  0.29721304774284363,\n",
              "  0.2974306643009186,\n",
              "  0.29745519161224365],\n",
              " 'learning_rate': [0.0010000000474974513,\n",
              "  0.0010000000474974513,\n",
              "  0.0010000000474974513,\n",
              "  0.0010000000474974513,\n",
              "  0.0010000000474974513,\n",
              "  0.0010000000474974513,\n",
              "  0.0010000000474974513,\n",
              "  0.0010000000474974513,\n",
              "  0.0010000000474974513,\n",
              "  0.0010000000474974513,\n",
              "  0.0005000000237487257,\n",
              "  0.0005000000237487257,\n",
              "  0.0005000000237487257,\n",
              "  0.0005000000237487257,\n",
              "  0.0002500000118743628,\n",
              "  0.0002500000118743628,\n",
              "  0.0002500000118743628,\n",
              "  0.0002500000118743628,\n",
              "  0.0002500000118743628,\n",
              "  0.0001250000059371814,\n",
              "  0.0001250000059371814,\n",
              "  0.0001250000059371814,\n",
              "  6.25000029685907e-05,\n",
              "  6.25000029685907e-05,\n",
              "  6.25000029685907e-05,\n",
              "  3.125000148429535e-05,\n",
              "  3.125000148429535e-05,\n",
              "  3.125000148429535e-05,\n",
              "  1.5625000742147677e-05,\n",
              "  1.5625000742147677e-05,\n",
              "  1.5625000742147677e-05,\n",
              "  7.812500371073838e-06,\n",
              "  7.812500371073838e-06,\n",
              "  7.812500371073838e-06,\n",
              "  3.906250185536919e-06,\n",
              "  3.906250185536919e-06,\n",
              "  3.906250185536919e-06,\n",
              "  1.9531250927684596e-06,\n",
              "  1.9531250927684596e-06,\n",
              "  1.9531250927684596e-06]}"
            ]
          },
          "metadata": {},
          "execution_count": 22
        }
      ]
    },
    {
      "cell_type": "code",
      "source": [
        "import matplotlib.pyplot as plt\n",
        "\n",
        "# 畫出訓練過程每一個epoch訓練資料與驗證資料各自準確率(accuracy)的變化，或者損失誤差(loss)的變化\n",
        "def show_train_history(train_history,train,validation):\n",
        "    plt.plot(train_history.history[train])\n",
        "    plt.plot(train_history.history[validation])\n",
        "    plt.title('Train History')\n",
        "    plt.ylabel(train)\n",
        "    plt.xlabel('Epoch')\n",
        "    plt.legend(['train', 'validation'], loc='upper left')\n",
        "    plt.show()"
      ],
      "metadata": {
        "id": "PwvVczpJ8hxc"
      },
      "execution_count": 23,
      "outputs": []
    },
    {
      "cell_type": "code",
      "source": [
        "show_train_history(train_history,'accuracy','val_accuracy')"
      ],
      "metadata": {
        "colab": {
          "base_uri": "https://localhost:8080/",
          "height": 472
        },
        "id": "3zf0W-Er8ubS",
        "outputId": "01d01047-c286-4f2c-b0af-03b959c0f77c"
      },
      "execution_count": 24,
      "outputs": [
        {
          "output_type": "display_data",
          "data": {
            "text/plain": [
              "<Figure size 640x480 with 1 Axes>"
            ],
            "image/png": "[encoded data removed]"
          },
          "metadata": {}
        }
      ]
    },
    {
      "cell_type": "code",
      "source": [
        "show_train_history(train_history,'loss','val_loss')"
      ],
      "metadata": {
        "colab": {
          "base_uri": "https://localhost:8080/",
          "height": 472
        },
        "id": "ICzgkn9a8-Ev",
        "outputId": "3965a4c3-9e3e-436d-cd12-a9493fe6b0c7"
      },
      "execution_count": 25,
      "outputs": [
        {
          "output_type": "display_data",
          "data": {
            "text/plain": [
              "<Figure size 640x480 with 1 Axes>"
            ],
            "image/png": "[encoded data removed]"
          },
          "metadata": {}
        }
      ]
    },
    {
      "cell_type": "markdown",
      "source": [
        "# **評估模型準確率**"
      ],
      "metadata": {
        "id": "vSY_2IeW9G2R"
      }
    },
    {
      "cell_type": "code",
      "source": [
        "scores = model.evaluate(x_Test_normalize, y_Test_OneHot)\n",
        "print()\n",
        "print('accuracy=',scores[1])"
      ],
      "metadata": {
        "colab": {
          "base_uri": "https://localhost:8080/"
        },
        "id": "VDxcdpCB9EMr",
        "outputId": "b1a034d5-9fbf-4c89-b41f-45cfd5f78e3f"
      },
      "execution_count": 26,
      "outputs": [
        {
          "output_type": "stream",
          "name": "stdout",
          "text": [
            "\u001b[1m313/313\u001b[0m \u001b[32m━━━━━━━━━━━━━━━━━━━━\u001b[0m\u001b[37m\u001b[0m \u001b[1m2s\u001b[0m 5ms/step - accuracy: 0.8985 - loss: 0.3329\n",
            "\n",
            "accuracy= 0.8996999859809875\n"
          ]
        }
      ]
    },
    {
      "cell_type": "markdown",
      "source": [
        "# **進行預測**"
      ],
      "metadata": {
        "id": "BnVfGwar9ML_"
      }
    },
    {
      "cell_type": "code",
      "source": [
        "class_names = [\"T-Shirt/top\",\"Trouser\",\"Pullover\",\"Dress\",\"Coat\",\"Sandal\",\"Shirt\",\"Sneaker\",\"Bag\",\"Ankle boot\"]"
      ],
      "metadata": {
        "id": "vHhHsmVbVkAW"
      },
      "execution_count": 27,
      "outputs": []
    },
    {
      "cell_type": "code",
      "source": [
        "prediction=model.predict(x_Test)"
      ],
      "metadata": {
        "colab": {
          "base_uri": "https://localhost:8080/"
        },
        "id": "8ClVRMeb9Igu",
        "outputId": "eaa0dd91-e4a7-4e3f-e906-6f491a4e6e1c"
      },
      "execution_count": 28,
      "outputs": [
        {
          "output_type": "stream",
          "name": "stdout",
          "text": [
            "\u001b[1m313/313\u001b[0m \u001b[32m━━━━━━━━━━━━━━━━━━━━\u001b[0m\u001b[37m\u001b[0m \u001b[1m1s\u001b[0m 4ms/step\n"
          ]
        }
      ]
    },
    {
      "cell_type": "code",
      "source": [
        "# 10000個預測結果：二維陣列(10000, 10)，每一個預測結果:10個阿拉伯數字可能的機率\n",
        "prediction.shape"
      ],
      "metadata": {
        "colab": {
          "base_uri": "https://localhost:8080/"
        },
        "id": "OLpSybib9KmJ",
        "outputId": "f4d0282c-0ac4-4b43-82f3-475543ef4c58"
      },
      "execution_count": 29,
      "outputs": [
        {
          "output_type": "execute_result",
          "data": {
            "text/plain": [
              "(10000, 10)"
            ]
          },
          "metadata": {},
          "execution_count": 29
        }
      ]
    },
    {
      "cell_type": "code",
      "source": [
        "# 第666號測試資料預測結果，數字7機率最高\n",
        "prediction[666]"
      ],
      "metadata": {
        "colab": {
          "base_uri": "https://localhost:8080/"
        },
        "id": "890iBfbf9QUz",
        "outputId": "0927f6bf-afbd-4ae8-ba0d-8340a25ccdbd"
      },
      "execution_count": 30,
      "outputs": [
        {
          "output_type": "execute_result",
          "data": {
            "text/plain": [
              "array([0.        , 0.        , 0.        , 0.99999994, 0.        ,\n",
              "       0.        , 0.        , 0.        , 0.        , 0.        ],\n",
              "      dtype=float32)"
            ]
          },
          "metadata": {},
          "execution_count": 30
        }
      ]
    },
    {
      "cell_type": "code",
      "source": [
        "# 將機率最高的阿拉伯數字(7)找出來，作為預測結果(標籤)\n",
        "predicted_lable = np.argmax(prediction[666])\n",
        "predicted_lable"
      ],
      "metadata": {
        "colab": {
          "base_uri": "https://localhost:8080/"
        },
        "id": "hmrjAejW9Sx1",
        "outputId": "5bc8facd-6221-4079-ee39-381652b1adaf"
      },
      "execution_count": 31,
      "outputs": [
        {
          "output_type": "execute_result",
          "data": {
            "text/plain": [
              "np.int64(3)"
            ]
          },
          "metadata": {},
          "execution_count": 31
        }
      ]
    },
    {
      "cell_type": "code",
      "source": [
        "import matplotlib.pyplot as plt\n",
        "\n",
        "print('神經網路預測是：', class_names[predicted_lable])\n",
        "print('實際是：', class_names[y_test_label[666]])\n",
        "plt.imshow(x_Test[666].reshape(28,28), cmap='Greys');  # 測試圖片需reshape為原來28x28"
      ],
      "metadata": {
        "colab": {
          "base_uri": "https://localhost:8080/",
          "height": 465
        },
        "id": "lbH-6VCg9VMu",
        "outputId": "c9f607db-7a61-477a-cb09-f32421200d92"
      },
      "execution_count": 32,
      "outputs": [
        {
          "output_type": "stream",
          "name": "stdout",
          "text": [
            "神經網路預測是： Dress\n",
            "實際是： Dress\n"
          ]
        },
        {
          "output_type": "display_data",
          "data": {
            "text/plain": [
              "<Figure size 640x480 with 1 Axes>"
            ],
            "image/png": "[encoded data removed]"
          },
          "metadata": {}
        }
      ]
    },
    {
      "cell_type": "code",
      "source": [
        "# 一次呈現數張測試資料(圖片)、預測結果與真實結果，最多25張，預設10張\n",
        "def plot_images_labels_prediction(images, labels, prediction, idx, num=10):\n",
        "    fig = plt.gcf()\n",
        "    fig.set_size_inches(12, 14)\n",
        "    if num > 25: num = 25\n",
        "    for i in range(0, num):\n",
        "        ax = plt.subplot(5, 5, 1 + i)\n",
        "        ax.imshow(images[idx], cmap='binary')\n",
        "        title = \"label=\" + str(class_names[labels[idx]]) + \"\\n\"\n",
        "        if len(prediction) > 0:\n",
        "            title += \"predict=\" + str(class_names[np.argmax(prediction[idx])])\n",
        "        ax.set_title(title, fontsize=10)\n",
        "        ax.set_xticks([]); ax.set_yticks([])\n",
        "        idx += 1\n",
        "    plt.show()"
      ],
      "metadata": {
        "id": "h-Jw7zb19X4P"
      },
      "execution_count": 33,
      "outputs": []
    },
    {
      "cell_type": "code",
      "source": [
        "plot_images_labels_prediction(x_test_image,y_test_label,\n",
        "                              prediction,idx=0)"
      ],
      "metadata": {
        "colab": {
          "base_uri": "https://localhost:8080/",
          "height": 455
        },
        "id": "GqbLNiwZ9aW0",
        "outputId": "83764449-a7f4-4089-8521-9e359f9c75cb"
      },
      "execution_count": 34,
      "outputs": [
        {
          "output_type": "display_data",
          "data": {
            "text/plain": [
              "<Figure size 1200x1400 with 10 Axes>"
            ],
            "image/png": "[encoded data removed]"
          },
          "metadata": {}
        }
      ]
    },
    {
      "cell_type": "markdown",
      "source": [
        "# confusion matrix (混淆矩陣)"
      ],
      "metadata": {
        "id": "6bk_Hy12-26h"
      }
    },
    {
      "cell_type": "markdown",
      "source": [
        "預測結果與真實結果相同或不同的情形"
      ],
      "metadata": {
        "id": "JaA8mC5X-9eM"
      }
    },
    {
      "cell_type": "code",
      "source": [
        "import pandas as pd\n",
        "# 將10000個預測結果一一轉換為\n",
        "predicted_labels = np.argmax(prediction, axis=1)\n",
        "\n",
        "# Now use predicted_labels in crosstab\n",
        "pd.crosstab(y_test_label, predicted_labels, rownames=['label'], colnames=['predict'])"
      ],
      "metadata": {
        "colab": {
          "base_uri": "https://localhost:8080/",
          "height": 394
        },
        "id": "eTZKi8m89cH4",
        "outputId": "2461c013-d07c-4c3b-d5a9-a4edf22ad1b9"
      },
      "execution_count": 35,
      "outputs": [
        {
          "output_type": "execute_result",
          "data": {
            "text/plain": [
              "predict    0    1    2    3    4    5    6    7    8    9\n",
              "label                                                    \n",
              "0        873    3   17    9    8    0   81    0    9    0\n",
              "1          1  987    2    5    4    0    0    0    1    0\n",
              "2         16    0  743    8  184    0   46    0    3    0\n",
              "3         24   15   11  857   63    0   22    0    8    0\n",
              "4          2    0   42   12  918    0   23    0    3    0\n",
              "5          0    0    0    0    0  967    0   11    1   21\n",
              "6        122    2   68   19  141    0  636    0   12    0\n",
              "7          0    0    0    0    0   14    0  929    3   54\n",
              "8          4    1    0    1    7    2    1    3  981    0\n",
              "9          0    0    0    0    0    2    1   13    0  984"
            ],
            "text/html": [
              "\n",
              "  <div id=\"df-7a430315-a264-4eff-8d35-966fd29d8ebf\" class=\"colab-df-container\">\n",
              "    <div>\n",
              "<style scoped>\n",
              "    .dataframe tbody tr th:only-of-type {\n",
              "        vertical-align: middle;\n",
              "    }\n",
              "\n",
              "    .dataframe tbody tr th {\n",
              "        vertical-align: top;\n",
              "    }\n",
              "\n",
              "    .dataframe thead th {\n",
              "        text-align: right;\n",
              "    }\n",
              "</style>\n",
              "<table border=\"1\" class=\"dataframe\">\n",
              "  <thead>\n",
              "    <tr style=\"text-align: right;\">\n",
              "      <th>predict</th>\n",
              "      <th>0</th>\n",
              "      <th>1</th>\n",
              "      <th>2</th>\n",
              "      <th>3</th>\n",
              "      <th>4</th>\n",
              "      <th>5</th>\n",
              "      <th>6</th>\n",
              "      <th>7</th>\n",
              "      <th>8</th>\n",
              "      <th>9</th>\n",
              "    </tr>\n",
              "    <tr>\n",
              "      <th>label</th>\n",
              "      <th></th>\n",
              "      <th></th>\n",
              "      <th></th>\n",
              "      <th></th>\n",
              "      <th></th>\n",
              "      <th></th>\n",
              "      <th></th>\n",
              "      <th></th>\n",
              "      <th></th>\n",
              "      <th></th>\n",
              "    </tr>\n",
              "  </thead>\n",
              "  <tbody>\n",
              "    <tr>\n",
              "      <th>0</th>\n",
              "      <td>873</td>\n",
              "      <td>3</td>\n",
              "      <td>17</td>\n",
              "      <td>9</td>\n",
              "      <td>8</td>\n",
              "      <td>0</td>\n",
              "      <td>81</td>\n",
              "      <td>0</td>\n",
              "      <td>9</td>\n",
              "      <td>0</td>\n",
              "    </tr>\n",
              "    <tr>\n",
              "      <th>1</th>\n",
              "      <td>1</td>\n",
              "      <td>987</td>\n",
              "      <td>2</td>\n",
              "      <td>5</td>\n",
              "      <td>4</td>\n",
              "      <td>0</td>\n",
              "      <td>0</td>\n",
              "      <td>0</td>\n",
              "      <td>1</td>\n",
              "      <td>0</td>\n",
              "    </tr>\n",
              "    <tr>\n",
              "      <th>2</th>\n",
              "      <td>16</td>\n",
              "      <td>0</td>\n",
              "      <td>743</td>\n",
              "      <td>8</td>\n",
              "      <td>184</td>\n",
              "      <td>0</td>\n",
              "      <td>46</td>\n",
              "      <td>0</td>\n",
              "      <td>3</td>\n",
              "      <td>0</td>\n",
              "    </tr>\n",
              "    <tr>\n",
              "      <th>3</th>\n",
              "      <td>24</td>\n",
              "      <td>15</td>\n",
              "      <td>11</td>\n",
              "      <td>857</td>\n",
              "      <td>63</td>\n",
              "      <td>0</td>\n",
              "      <td>22</td>\n",
              "      <td>0</td>\n",
              "      <td>8</td>\n",
              "      <td>0</td>\n",
              "    </tr>\n",
              "    <tr>\n",
              "      <th>4</th>\n",
              "      <td>2</td>\n",
              "      <td>0</td>\n",
              "      <td>42</td>\n",
              "      <td>12</td>\n",
              "      <td>918</td>\n",
              "      <td>0</td>\n",
              "      <td>23</td>\n",
              "      <td>0</td>\n",
              "      <td>3</td>\n",
              "      <td>0</td>\n",
              "    </tr>\n",
              "    <tr>\n",
              "      <th>5</th>\n",
              "      <td>0</td>\n",
              "      <td>0</td>\n",
              "      <td>0</td>\n",
              "      <td>0</td>\n",
              "      <td>0</td>\n",
              "      <td>967</td>\n",
              "      <td>0</td>\n",
              "      <td>11</td>\n",
              "      <td>1</td>\n",
              "      <td>21</td>\n",
              "    </tr>\n",
              "    <tr>\n",
              "      <th>6</th>\n",
              "      <td>122</td>\n",
              "      <td>2</td>\n",
              "      <td>68</td>\n",
              "      <td>19</td>\n",
              "      <td>141</td>\n",
              "      <td>0</td>\n",
              "      <td>636</td>\n",
              "      <td>0</td>\n",
              "      <td>12</td>\n",
              "      <td>0</td>\n",
              "    </tr>\n",
              "    <tr>\n",
              "      <th>7</th>\n",
              "      <td>0</td>\n",
              "      <td>0</td>\n",
              "      <td>0</td>\n",
              "      <td>0</td>\n",
              "      <td>0</td>\n",
              "      <td>14</td>\n",
              "      <td>0</td>\n",
              "      <td>929</td>\n",
              "      <td>3</td>\n",
              "      <td>54</td>\n",
              "    </tr>\n",
              "    <tr>\n",
              "      <th>8</th>\n",
              "      <td>4</td>\n",
              "      <td>1</td>\n",
              "      <td>0</td>\n",
              "      <td>1</td>\n",
              "      <td>7</td>\n",
              "      <td>2</td>\n",
              "      <td>1</td>\n",
              "      <td>3</td>\n",
              "      <td>981</td>\n",
              "      <td>0</td>\n",
              "    </tr>\n",
              "    <tr>\n",
              "      <th>9</th>\n",
              "      <td>0</td>\n",
              "      <td>0</td>\n",
              "      <td>0</td>\n",
              "      <td>0</td>\n",
              "      <td>0</td>\n",
              "      <td>2</td>\n",
              "      <td>1</td>\n",
              "      <td>13</td>\n",
              "      <td>0</td>\n",
              "      <td>984</td>\n",
              "    </tr>\n",
              "  </tbody>\n",
              "</table>\n",
              "</div>\n",
              "    <div class=\"colab-df-buttons\">\n",
              "\n",
              "  <div class=\"colab-df-container\">\n",
              "    <button class=\"colab-df-convert\" onclick=\"convertToInteractive('df-7a430315-a264-4eff-8d35-966fd29d8ebf')\"\n",
              "            title=\"Convert this dataframe to an interactive table.\"\n",
              "            style=\"display:none;\">\n",
              "\n",
              "  <svg xmlns=\"http://www.w3.org/2000/svg\" height=\"24px\" viewBox=\"0 -960 960 960\">\n",
              "    <path d=\"M120-120v-720h720v720H120Zm60-500h600v-160H180v160Zm220 220h160v-160H400v160Zm0 220h160v-160H400v160ZM180-400h160v-160H180v160Zm440 0h160v-160H620v160ZM180-180h160v-160H180v160Zm440 0h160v-160H620v160Z\"/>\n",
              "  </svg>\n",
              "    </button>\n",
              "\n",
              "  <style>\n",
              "    .colab-df-container {\n",
              "      display:flex;\n",
              "      gap: 12px;\n",
              "    }\n",
              "\n",
              "    .colab-df-convert {\n",
              "      background-color: #E8F0FE;\n",
              "      border: none;\n",
              "      border-radius: 50%;\n",
              "      cursor: pointer;\n",
              "      display: none;\n",
              "      fill: #1967D2;\n",
              "      height: 32px;\n",
              "      padding: 0 0 0 0;\n",
              "      width: 32px;\n",
              "    }\n",
              "\n",
              "    .colab-df-convert:hover {\n",
              "      background-color: #E2EBFA;\n",
              "      box-shadow: 0px 1px 2px rgba(60, 64, 67, 0.3), 0px 1px 3px 1px rgba(60, 64, 67, 0.15);\n",
              "      fill: #174EA6;\n",
              "    }\n",
              "\n",
              "    .colab-df-buttons div {\n",
              "      margin-bottom: 4px;\n",
              "    }\n",
              "\n",
              "    [theme=dark] .colab-df-convert {\n",
              "      background-color: #3B4455;\n",
              "      fill: #D2E3FC;\n",
              "    }\n",
              "\n",
              "    [theme=dark] .colab-df-convert:hover {\n",
              "      background-color: #434B5C;\n",
              "      box-shadow: 0px 1px 3px 1px rgba(0, 0, 0, 0.15);\n",
              "      filter: drop-shadow(0px 1px 2px rgba(0, 0, 0, 0.3));\n",
              "      fill: #FFFFFF;\n",
              "    }\n",
              "  </style>\n",
              "\n",
              "    <script>\n",
              "      const buttonEl =\n",
              "        document.querySelector('#df-7a430315-a264-4eff-8d35-966fd29d8ebf button.colab-df-convert');\n",
              "      buttonEl.style.display =\n",
              "        google.colab.kernel.accessAllowed ? 'block' : 'none';\n",
              "\n",
              "      async function convertToInteractive(key) {\n",
              "        const element = document.querySelector('#df-7a430315-a264-4eff-8d35-966fd29d8ebf');\n",
              "        const dataTable =\n",
              "          await google.colab.kernel.invokeFunction('convertToInteractive',\n",
              "                                                    [key], {});\n",
              "        if (!dataTable) return;\n",
              "\n",
              "        const docLinkHtml = 'Like what you see? Visit the ' +\n",
              "          '<a target=\"_blank\" href=https://colab.research.google.com/notebooks/data_table.ipynb>data table notebook</a>'\n",
              "          + ' to learn more about interactive tables.';\n",
              "        element.innerHTML = '';\n",
              "        dataTable['output_type'] = 'display_data';\n",
              "        await google.colab.output.renderOutput(dataTable, element);\n",
              "        const docLink = document.createElement('div');\n",
              "        docLink.innerHTML = docLinkHtml;\n",
              "        element.appendChild(docLink);\n",
              "      }\n",
              "    </script>\n",
              "  </div>\n",
              "\n",
              "\n",
              "    <div id=\"df-bd1ecd73-2b44-4db7-af57-eda5f51d1e98\">\n",
              "      <button class=\"colab-df-quickchart\" onclick=\"quickchart('df-bd1ecd73-2b44-4db7-af57-eda5f51d1e98')\"\n",
              "                title=\"Suggest charts\"\n",
              "                style=\"display:none;\">\n",
              "\n",
              "<svg xmlns=\"http://www.w3.org/2000/svg\" height=\"24px\"viewBox=\"0 0 24 24\"\n",
              "     width=\"24px\">\n",
              "    <g>\n",
              "        <path d=\"M19 3H5c-1.1 0-2 .9-2 2v14c0 1.1.9 2 2 2h14c1.1 0 2-.9 2-2V5c0-1.1-.9-2-2-2zM9 17H7v-7h2v7zm4 0h-2V7h2v10zm4 0h-2v-4h2v4z\"/>\n",
              "    </g>\n",
              "</svg>\n",
              "      </button>\n",
              "\n",
              "<style>\n",
              "  .colab-df-quickchart {\n",
              "      --bg-color: #E8F0FE;\n",
              "      --fill-color: #1967D2;\n",
              "      --hover-bg-color: #E2EBFA;\n",
              "      --hover-fill-color: #174EA6;\n",
              "      --disabled-fill-color: #AAA;\n",
              "      --disabled-bg-color: #DDD;\n",
              "  }\n",
              "\n",
              "  [theme=dark] .colab-df-quickchart {\n",
              "      --bg-color: #3B4455;\n",
              "      --fill-color: #D2E3FC;\n",
              "      --hover-bg-color: #434B5C;\n",
              "      --hover-fill-color: #FFFFFF;\n",
              "      --disabled-bg-color: #3B4455;\n",
              "      --disabled-fill-color: #666;\n",
              "  }\n",
              "\n",
              "  .colab-df-quickchart {\n",
              "    background-color: var(--bg-color);\n",
              "    border: none;\n",
              "    border-radius: 50%;\n",
              "    cursor: pointer;\n",
              "    display: none;\n",
              "    fill: var(--fill-color);\n",
              "    height: 32px;\n",
              "    padding: 0;\n",
              "    width: 32px;\n",
              "  }\n",
              "\n",
              "  .colab-df-quickchart:hover {\n",
              "    background-color: var(--hover-bg-color);\n",
              "    box-shadow: 0 1px 2px rgba(60, 64, 67, 0.3), 0 1px 3px 1px rgba(60, 64, 67, 0.15);\n",
              "    fill: var(--button-hover-fill-color);\n",
              "  }\n",
              "\n",
              "  .colab-df-quickchart-complete:disabled,\n",
              "  .colab-df-quickchart-complete:disabled:hover {\n",
              "    background-color: var(--disabled-bg-color);\n",
              "    fill: var(--disabled-fill-color);\n",
              "    box-shadow: none;\n",
              "  }\n",
              "\n",
              "  .colab-df-spinner {\n",
              "    border: 2px solid var(--fill-color);\n",
              "    border-color: transparent;\n",
              "    border-bottom-color: var(--fill-color);\n",
              "    animation:\n",
              "      spin 1s steps(1) infinite;\n",
              "  }\n",
              "\n",
              "  @keyframes spin {\n",
              "    0% {\n",
              "      border-color: transparent;\n",
              "      border-bottom-color: var(--fill-color);\n",
              "      border-left-color: var(--fill-color);\n",
              "    }\n",
              "    20% {\n",
              "      border-color: transparent;\n",
              "      border-left-color: var(--fill-color);\n",
              "      border-top-color: var(--fill-color);\n",
              "    }\n",
              "    30% {\n",
              "      border-color: transparent;\n",
              "      border-left-color: var(--fill-color);\n",
              "      border-top-color: var(--fill-color);\n",
              "      border-right-color: var(--fill-color);\n",
              "    }\n",
              "    40% {\n",
              "      border-color: transparent;\n",
              "      border-right-color: var(--fill-color);\n",
              "      border-top-color: var(--fill-color);\n",
              "    }\n",
              "    60% {\n",
              "      border-color: transparent;\n",
              "      border-right-color: var(--fill-color);\n",
              "    }\n",
              "    80% {\n",
              "      border-color: transparent;\n",
              "      border-right-color: var(--fill-color);\n",
              "      border-bottom-color: var(--fill-color);\n",
              "    }\n",
              "    90% {\n",
              "      border-color: transparent;\n",
              "      border-bottom-color: var(--fill-color);\n",
              "    }\n",
              "  }\n",
              "</style>\n",
              "\n",
              "      <script>\n",
              "        async function quickchart(key) {\n",
              "          const quickchartButtonEl =\n",
              "            document.querySelector('#' + key + ' button');\n",
              "          quickchartButtonEl.disabled = true;  // To prevent multiple clicks.\n",
              "          quickchartButtonEl.classList.add('colab-df-spinner');\n",
              "          try {\n",
              "            const charts = await google.colab.kernel.invokeFunction(\n",
              "                'suggestCharts', [key], {});\n",
              "          } catch (error) {\n",
              "            console.error('Error during call to suggestCharts:', error);\n",
              "          }\n",
              "          quickchartButtonEl.classList.remove('colab-df-spinner');\n",
              "          quickchartButtonEl.classList.add('colab-df-quickchart-complete');\n",
              "        }\n",
              "        (() => {\n",
              "          let quickchartButtonEl =\n",
              "            document.querySelector('#df-bd1ecd73-2b44-4db7-af57-eda5f51d1e98 button');\n",
              "          quickchartButtonEl.style.display =\n",
              "            google.colab.kernel.accessAllowed ? 'block' : 'none';\n",
              "        })();\n",
              "      </script>\n",
              "    </div>\n",
              "\n",
              "    </div>\n",
              "  </div>\n"
            ],
            "application/vnd.google.colaboratory.intrinsic+json": {
              "type": "dataframe",
              "summary": "{\n  \"name\": \"pd\",\n  \"rows\": 10,\n  \"fields\": [\n    {\n      \"column\": \"label\",\n      \"properties\": {\n        \"dtype\": \"uint8\",\n        \"num_unique_values\": 10,\n        \"samples\": [\n          8,\n          1,\n          5\n        ],\n        \"semantic_type\": \"\",\n        \"description\": \"\"\n      }\n    },\n    {\n      \"column\": 0,\n      \"properties\": {\n        \"dtype\": \"number\",\n        \"std\": 272,\n        \"min\": 0,\n        \"max\": 873,\n        \"num_unique_values\": 8,\n        \"samples\": [\n          1,\n          0,\n          873\n        ],\n        \"semantic_type\": \"\",\n        \"description\": \"\"\n      }\n    },\n    {\n      \"column\": 1,\n      \"properties\": {\n        \"dtype\": \"number\",\n        \"std\": 311,\n        \"min\": 0,\n        \"max\": 987,\n        \"num_unique_values\": 6,\n        \"samples\": [\n          3,\n          987,\n          1\n        ],\n        \"semantic_type\": \"\",\n        \"description\": \"\"\n      }\n    },\n    {\n      \"column\": 2,\n      \"properties\": {\n        \"dtype\": \"number\",\n        \"std\": 231,\n        \"min\": 0,\n        \"max\": 743,\n        \"num_unique_values\": 7,\n        \"samples\": [\n          17,\n          2,\n          0\n        ],\n        \"semantic_type\": \"\",\n        \"description\": \"\"\n      }\n    },\n    {\n      \"column\": 3,\n      \"properties\": {\n        \"dtype\": \"number\",\n        \"std\": 269,\n        \"min\": 0,\n        \"max\": 857,\n        \"num_unique_values\": 8,\n        \"samples\": [\n          5,\n          0,\n          9\n        ],\n        \"semantic_type\": \"\",\n        \"description\": \"\"\n      }\n    },\n    {\n      \"column\": 4,\n      \"properties\": {\n        \"dtype\": \"number\",\n        \"std\": 283,\n        \"min\": 0,\n        \"max\": 918,\n        \"num_unique_values\": 8,\n        \"samples\": [\n          4,\n          0,\n          8\n        ],\n        \"semantic_type\": \"\",\n        \"description\": \"\"\n      }\n    },\n    {\n      \"column\": 5,\n      \"properties\": {\n        \"dtype\": \"number\",\n        \"std\": 305,\n        \"min\": 0,\n        \"max\": 967,\n        \"num_unique_values\": 4,\n        \"samples\": [\n          967,\n          2,\n          0\n        ],\n        \"semantic_type\": \"\",\n        \"description\": \"\"\n      }\n    },\n    {\n      \"column\": 6,\n      \"properties\": {\n        \"dtype\": \"number\",\n        \"std\": 196,\n        \"min\": 0,\n        \"max\": 636,\n        \"num_unique_values\": 7,\n        \"samples\": [\n          81,\n          0,\n          636\n        ],\n        \"semantic_type\": \"\",\n        \"description\": \"\"\n      }\n    },\n    {\n      \"column\": 7,\n      \"properties\": {\n        \"dtype\": \"number\",\n        \"std\": 292,\n        \"min\": 0,\n        \"max\": 929,\n        \"num_unique_values\": 5,\n        \"samples\": [\n          11,\n          13,\n          929\n        ],\n        \"semantic_type\": \"\",\n        \"description\": \"\"\n      }\n    },\n    {\n      \"column\": 8,\n      \"properties\": {\n        \"dtype\": \"number\",\n        \"std\": 308,\n        \"min\": 0,\n        \"max\": 981,\n        \"num_unique_values\": 7,\n        \"samples\": [\n          9,\n          1,\n          981\n        ],\n        \"semantic_type\": \"\",\n        \"description\": \"\"\n      }\n    },\n    {\n      \"column\": 9,\n      \"properties\": {\n        \"dtype\": \"number\",\n        \"std\": 309,\n        \"min\": 0,\n        \"max\": 984,\n        \"num_unique_values\": 4,\n        \"samples\": [\n          21,\n          984,\n          0\n        ],\n        \"semantic_type\": \"\",\n        \"description\": \"\"\n      }\n    }\n  ]\n}"
            }
          },
          "metadata": {},
          "execution_count": 35
        }
      ]
    },
    {
      "cell_type": "code",
      "source": [
        "# 每一筆測試資料的真實結果標籤(label)與預測結果標籤(predict)的表格(df)\n",
        "\n",
        "df = pd.DataFrame({'label': y_test_label, 'predict': predicted_labels})\n",
        "df[:10] # 表格前10筆測試資料"
      ],
      "metadata": {
        "colab": {
          "base_uri": "https://localhost:8080/",
          "height": 363
        },
        "id": "RVj6X1yo-_12",
        "outputId": "13d9e993-8bc1-4e51-9d9e-956aec020c0d"
      },
      "execution_count": 36,
      "outputs": [
        {
          "output_type": "execute_result",
          "data": {
            "text/plain": [
              "   label  predict\n",
              "0      9        9\n",
              "1      2        2\n",
              "2      1        1\n",
              "3      1        1\n",
              "4      6        6\n",
              "5      1        1\n",
              "6      4        4\n",
              "7      6        6\n",
              "8      5        5\n",
              "9      7        7"
            ],
            "text/html": [
              "\n",
              "  <div id=\"df-f176dfef-8efa-4dd0-830a-a3290d574444\" class=\"colab-df-container\">\n",
              "    <div>\n",
              "<style scoped>\n",
              "    .dataframe tbody tr th:only-of-type {\n",
              "        vertical-align: middle;\n",
              "    }\n",
              "\n",
              "    .dataframe tbody tr th {\n",
              "        vertical-align: top;\n",
              "    }\n",
              "\n",
              "    .dataframe thead th {\n",
              "        text-align: right;\n",
              "    }\n",
              "</style>\n",
              "<table border=\"1\" class=\"dataframe\">\n",
              "  <thead>\n",
              "    <tr style=\"text-align: right;\">\n",
              "      <th></th>\n",
              "      <th>label</th>\n",
              "      <th>predict</th>\n",
              "    </tr>\n",
              "  </thead>\n",
              "  <tbody>\n",
              "    <tr>\n",
              "      <th>0</th>\n",
              "      <td>9</td>\n",
              "      <td>9</td>\n",
              "    </tr>\n",
              "    <tr>\n",
              "      <th>1</th>\n",
              "      <td>2</td>\n",
              "      <td>2</td>\n",
              "    </tr>\n",
              "    <tr>\n",
              "      <th>2</th>\n",
              "      <td>1</td>\n",
              "      <td>1</td>\n",
              "    </tr>\n",
              "    <tr>\n",
              "      <th>3</th>\n",
              "      <td>1</td>\n",
              "      <td>1</td>\n",
              "    </tr>\n",
              "    <tr>\n",
              "      <th>4</th>\n",
              "      <td>6</td>\n",
              "      <td>6</td>\n",
              "    </tr>\n",
              "    <tr>\n",
              "      <th>5</th>\n",
              "      <td>1</td>\n",
              "      <td>1</td>\n",
              "    </tr>\n",
              "    <tr>\n",
              "      <th>6</th>\n",
              "      <td>4</td>\n",
              "      <td>4</td>\n",
              "    </tr>\n",
              "    <tr>\n",
              "      <th>7</th>\n",
              "      <td>6</td>\n",
              "      <td>6</td>\n",
              "    </tr>\n",
              "    <tr>\n",
              "      <th>8</th>\n",
              "      <td>5</td>\n",
              "      <td>5</td>\n",
              "    </tr>\n",
              "    <tr>\n",
              "      <th>9</th>\n",
              "      <td>7</td>\n",
              "      <td>7</td>\n",
              "    </tr>\n",
              "  </tbody>\n",
              "</table>\n",
              "</div>\n",
              "    <div class=\"colab-df-buttons\">\n",
              "\n",
              "  <div class=\"colab-df-container\">\n",
              "    <button class=\"colab-df-convert\" onclick=\"convertToInteractive('df-f176dfef-8efa-4dd0-830a-a3290d574444')\"\n",
              "            title=\"Convert this dataframe to an interactive table.\"\n",
              "            style=\"display:none;\">\n",
              "\n",
              "  <svg xmlns=\"http://www.w3.org/2000/svg\" height=\"24px\" viewBox=\"0 -960 960 960\">\n",
              "    <path d=\"M120-120v-720h720v720H120Zm60-500h600v-160H180v160Zm220 220h160v-160H400v160Zm0 220h160v-160H400v160ZM180-400h160v-160H180v160Zm440 0h160v-160H620v160ZM180-180h160v-160H180v160Zm440 0h160v-160H620v160Z\"/>\n",
              "  </svg>\n",
              "    </button>\n",
              "\n",
              "  <style>\n",
              "    .colab-df-container {\n",
              "      display:flex;\n",
              "      gap: 12px;\n",
              "    }\n",
              "\n",
              "    .colab-df-convert {\n",
              "      background-color: #E8F0FE;\n",
              "      border: none;\n",
              "      border-radius: 50%;\n",
              "      cursor: pointer;\n",
              "      display: none;\n",
              "      fill: #1967D2;\n",
              "      height: 32px;\n",
              "      padding: 0 0 0 0;\n",
              "      width: 32px;\n",
              "    }\n",
              "\n",
              "    .colab-df-convert:hover {\n",
              "      background-color: #E2EBFA;\n",
              "      box-shadow: 0px 1px 2px rgba(60, 64, 67, 0.3), 0px 1px 3px 1px rgba(60, 64, 67, 0.15);\n",
              "      fill: #174EA6;\n",
              "    }\n",
              "\n",
              "    .colab-df-buttons div {\n",
              "      margin-bottom: 4px;\n",
              "    }\n",
              "\n",
              "    [theme=dark] .colab-df-convert {\n",
              "      background-color: #3B4455;\n",
              "      fill: #D2E3FC;\n",
              "    }\n",
              "\n",
              "    [theme=dark] .colab-df-convert:hover {\n",
              "      background-color: #434B5C;\n",
              "      box-shadow: 0px 1px 3px 1px rgba(0, 0, 0, 0.15);\n",
              "      filter: drop-shadow(0px 1px 2px rgba(0, 0, 0, 0.3));\n",
              "      fill: #FFFFFF;\n",
              "    }\n",
              "  </style>\n",
              "\n",
              "    <script>\n",
              "      const buttonEl =\n",
              "        document.querySelector('#df-f176dfef-8efa-4dd0-830a-a3290d574444 button.colab-df-convert');\n",
              "      buttonEl.style.display =\n",
              "        google.colab.kernel.accessAllowed ? 'block' : 'none';\n",
              "\n",
              "      async function convertToInteractive(key) {\n",
              "        const element = document.querySelector('#df-f176dfef-8efa-4dd0-830a-a3290d574444');\n",
              "        const dataTable =\n",
              "          await google.colab.kernel.invokeFunction('convertToInteractive',\n",
              "                                                    [key], {});\n",
              "        if (!dataTable) return;\n",
              "\n",
              "        const docLinkHtml = 'Like what you see? Visit the ' +\n",
              "          '<a target=\"_blank\" href=https://colab.research.google.com/notebooks/data_table.ipynb>data table notebook</a>'\n",
              "          + ' to learn more about interactive tables.';\n",
              "        element.innerHTML = '';\n",
              "        dataTable['output_type'] = 'display_data';\n",
              "        await google.colab.output.renderOutput(dataTable, element);\n",
              "        const docLink = document.createElement('div');\n",
              "        docLink.innerHTML = docLinkHtml;\n",
              "        element.appendChild(docLink);\n",
              "      }\n",
              "    </script>\n",
              "  </div>\n",
              "\n",
              "\n",
              "    <div id=\"df-58e68cee-a3d7-4984-81da-94ce341db556\">\n",
              "      <button class=\"colab-df-quickchart\" onclick=\"quickchart('df-58e68cee-a3d7-4984-81da-94ce341db556')\"\n",
              "                title=\"Suggest charts\"\n",
              "                style=\"display:none;\">\n",
              "\n",
              "<svg xmlns=\"http://www.w3.org/2000/svg\" height=\"24px\"viewBox=\"0 0 24 24\"\n",
              "     width=\"24px\">\n",
              "    <g>\n",
              "        <path d=\"M19 3H5c-1.1 0-2 .9-2 2v14c0 1.1.9 2 2 2h14c1.1 0 2-.9 2-2V5c0-1.1-.9-2-2-2zM9 17H7v-7h2v7zm4 0h-2V7h2v10zm4 0h-2v-4h2v4z\"/>\n",
              "    </g>\n",
              "</svg>\n",
              "      </button>\n",
              "\n",
              "<style>\n",
              "  .colab-df-quickchart {\n",
              "      --bg-color: #E8F0FE;\n",
              "      --fill-color: #1967D2;\n",
              "      --hover-bg-color: #E2EBFA;\n",
              "      --hover-fill-color: #174EA6;\n",
              "      --disabled-fill-color: #AAA;\n",
              "      --disabled-bg-color: #DDD;\n",
              "  }\n",
              "\n",
              "  [theme=dark] .colab-df-quickchart {\n",
              "      --bg-color: #3B4455;\n",
              "      --fill-color: #D2E3FC;\n",
              "      --hover-bg-color: #434B5C;\n",
              "      --hover-fill-color: #FFFFFF;\n",
              "      --disabled-bg-color: #3B4455;\n",
              "      --disabled-fill-color: #666;\n",
              "  }\n",
              "\n",
              "  .colab-df-quickchart {\n",
              "    background-color: var(--bg-color);\n",
              "    border: none;\n",
              "    border-radius: 50%;\n",
              "    cursor: pointer;\n",
              "    display: none;\n",
              "    fill: var(--fill-color);\n",
              "    height: 32px;\n",
              "    padding: 0;\n",
              "    width: 32px;\n",
              "  }\n",
              "\n",
              "  .colab-df-quickchart:hover {\n",
              "    background-color: var(--hover-bg-color);\n",
              "    box-shadow: 0 1px 2px rgba(60, 64, 67, 0.3), 0 1px 3px 1px rgba(60, 64, 67, 0.15);\n",
              "    fill: var(--button-hover-fill-color);\n",
              "  }\n",
              "\n",
              "  .colab-df-quickchart-complete:disabled,\n",
              "  .colab-df-quickchart-complete:disabled:hover {\n",
              "    background-color: var(--disabled-bg-color);\n",
              "    fill: var(--disabled-fill-color);\n",
              "    box-shadow: none;\n",
              "  }\n",
              "\n",
              "  .colab-df-spinner {\n",
              "    border: 2px solid var(--fill-color);\n",
              "    border-color: transparent;\n",
              "    border-bottom-color: var(--fill-color);\n",
              "    animation:\n",
              "      spin 1s steps(1) infinite;\n",
              "  }\n",
              "\n",
              "  @keyframes spin {\n",
              "    0% {\n",
              "      border-color: transparent;\n",
              "      border-bottom-color: var(--fill-color);\n",
              "      border-left-color: var(--fill-color);\n",
              "    }\n",
              "    20% {\n",
              "      border-color: transparent;\n",
              "      border-left-color: var(--fill-color);\n",
              "      border-top-color: var(--fill-color);\n",
              "    }\n",
              "    30% {\n",
              "      border-color: transparent;\n",
              "      border-left-color: var(--fill-color);\n",
              "      border-top-color: var(--fill-color);\n",
              "      border-right-color: var(--fill-color);\n",
              "    }\n",
              "    40% {\n",
              "      border-color: transparent;\n",
              "      border-right-color: var(--fill-color);\n",
              "      border-top-color: var(--fill-color);\n",
              "    }\n",
              "    60% {\n",
              "      border-color: transparent;\n",
              "      border-right-color: var(--fill-color);\n",
              "    }\n",
              "    80% {\n",
              "      border-color: transparent;\n",
              "      border-right-color: var(--fill-color);\n",
              "      border-bottom-color: var(--fill-color);\n",
              "    }\n",
              "    90% {\n",
              "      border-color: transparent;\n",
              "      border-bottom-color: var(--fill-color);\n",
              "    }\n",
              "  }\n",
              "</style>\n",
              "\n",
              "      <script>\n",
              "        async function quickchart(key) {\n",
              "          const quickchartButtonEl =\n",
              "            document.querySelector('#' + key + ' button');\n",
              "          quickchartButtonEl.disabled = true;  // To prevent multiple clicks.\n",
              "          quickchartButtonEl.classList.add('colab-df-spinner');\n",
              "          try {\n",
              "            const charts = await google.colab.kernel.invokeFunction(\n",
              "                'suggestCharts', [key], {});\n",
              "          } catch (error) {\n",
              "            console.error('Error during call to suggestCharts:', error);\n",
              "          }\n",
              "          quickchartButtonEl.classList.remove('colab-df-spinner');\n",
              "          quickchartButtonEl.classList.add('colab-df-quickchart-complete');\n",
              "        }\n",
              "        (() => {\n",
              "          let quickchartButtonEl =\n",
              "            document.querySelector('#df-58e68cee-a3d7-4984-81da-94ce341db556 button');\n",
              "          quickchartButtonEl.style.display =\n",
              "            google.colab.kernel.accessAllowed ? 'block' : 'none';\n",
              "        })();\n",
              "      </script>\n",
              "    </div>\n",
              "\n",
              "    </div>\n",
              "  </div>\n"
            ],
            "application/vnd.google.colaboratory.intrinsic+json": {
              "type": "dataframe",
              "summary": "{\n  \"name\": \"df[:10] # \\u8868\\u683c\\u524d10\\u7b46\\u6e2c\\u8a66\\u8cc7\\u6599\",\n  \"rows\": 10,\n  \"fields\": [\n    {\n      \"column\": \"label\",\n      \"properties\": {\n        \"dtype\": \"uint8\",\n        \"num_unique_values\": 7,\n        \"samples\": [\n          9,\n          2,\n          5\n        ],\n        \"semantic_type\": \"\",\n        \"description\": \"\"\n      }\n    },\n    {\n      \"column\": \"predict\",\n      \"properties\": {\n        \"dtype\": \"number\",\n        \"std\": 2,\n        \"min\": 1,\n        \"max\": 9,\n        \"num_unique_values\": 7,\n        \"samples\": [\n          9,\n          2,\n          5\n        ],\n        \"semantic_type\": \"\",\n        \"description\": \"\"\n      }\n    }\n  ]\n}"
            }
          },
          "metadata": {},
          "execution_count": 36
        }
      ]
    },
    {
      "cell_type": "code",
      "source": [
        "df[(df.label==5)&(df.predict==3)]  # 真實標籤為5，卻預測為3"
      ],
      "metadata": {
        "colab": {
          "base_uri": "https://localhost:8080/",
          "height": 53
        },
        "id": "Filx1aXt_C5W",
        "outputId": "6b705661-59a5-44d4-93be-90ad2aaf8a97"
      },
      "execution_count": 37,
      "outputs": [
        {
          "output_type": "execute_result",
          "data": {
            "text/plain": [
              "Empty DataFrame\n",
              "Columns: [label, predict]\n",
              "Index: []"
            ],
            "text/html": [
              "\n",
              "  <div id=\"df-f235ea1c-a2c2-4884-9d75-0af7f42ba1c7\" class=\"colab-df-container\">\n",
              "    <div>\n",
              "<style scoped>\n",
              "    .dataframe tbody tr th:only-of-type {\n",
              "        vertical-align: middle;\n",
              "    }\n",
              "\n",
              "    .dataframe tbody tr th {\n",
              "        vertical-align: top;\n",
              "    }\n",
              "\n",
              "    .dataframe thead th {\n",
              "        text-align: right;\n",
              "    }\n",
              "</style>\n",
              "<table border=\"1\" class=\"dataframe\">\n",
              "  <thead>\n",
              "    <tr style=\"text-align: right;\">\n",
              "      <th></th>\n",
              "      <th>label</th>\n",
              "      <th>predict</th>\n",
              "    </tr>\n",
              "  </thead>\n",
              "  <tbody>\n",
              "  </tbody>\n",
              "</table>\n",
              "</div>\n",
              "    <div class=\"colab-df-buttons\">\n",
              "\n",
              "  <div class=\"colab-df-container\">\n",
              "    <button class=\"colab-df-convert\" onclick=\"convertToInteractive('df-f235ea1c-a2c2-4884-9d75-0af7f42ba1c7')\"\n",
              "            title=\"Convert this dataframe to an interactive table.\"\n",
              "            style=\"display:none;\">\n",
              "\n",
              "  <svg xmlns=\"http://www.w3.org/2000/svg\" height=\"24px\" viewBox=\"0 -960 960 960\">\n",
              "    <path d=\"M120-120v-720h720v720H120Zm60-500h600v-160H180v160Zm220 220h160v-160H400v160Zm0 220h160v-160H400v160ZM180-400h160v-160H180v160Zm440 0h160v-160H620v160ZM180-180h160v-160H180v160Zm440 0h160v-160H620v160Z\"/>\n",
              "  </svg>\n",
              "    </button>\n",
              "\n",
              "  <style>\n",
              "    .colab-df-container {\n",
              "      display:flex;\n",
              "      gap: 12px;\n",
              "    }\n",
              "\n",
              "    .colab-df-convert {\n",
              "      background-color: #E8F0FE;\n",
              "      border: none;\n",
              "      border-radius: 50%;\n",
              "      cursor: pointer;\n",
              "      display: none;\n",
              "      fill: #1967D2;\n",
              "      height: 32px;\n",
              "      padding: 0 0 0 0;\n",
              "      width: 32px;\n",
              "    }\n",
              "\n",
              "    .colab-df-convert:hover {\n",
              "      background-color: #E2EBFA;\n",
              "      box-shadow: 0px 1px 2px rgba(60, 64, 67, 0.3), 0px 1px 3px 1px rgba(60, 64, 67, 0.15);\n",
              "      fill: #174EA6;\n",
              "    }\n",
              "\n",
              "    .colab-df-buttons div {\n",
              "      margin-bottom: 4px;\n",
              "    }\n",
              "\n",
              "    [theme=dark] .colab-df-convert {\n",
              "      background-color: #3B4455;\n",
              "      fill: #D2E3FC;\n",
              "    }\n",
              "\n",
              "    [theme=dark] .colab-df-convert:hover {\n",
              "      background-color: #434B5C;\n",
              "      box-shadow: 0px 1px 3px 1px rgba(0, 0, 0, 0.15);\n",
              "      filter: drop-shadow(0px 1px 2px rgba(0, 0, 0, 0.3));\n",
              "      fill: #FFFFFF;\n",
              "    }\n",
              "  </style>\n",
              "\n",
              "    <script>\n",
              "      const buttonEl =\n",
              "        document.querySelector('#df-f235ea1c-a2c2-4884-9d75-0af7f42ba1c7 button.colab-df-convert');\n",
              "      buttonEl.style.display =\n",
              "        google.colab.kernel.accessAllowed ? 'block' : 'none';\n",
              "\n",
              "      async function convertToInteractive(key) {\n",
              "        const element = document.querySelector('#df-f235ea1c-a2c2-4884-9d75-0af7f42ba1c7');\n",
              "        const dataTable =\n",
              "          await google.colab.kernel.invokeFunction('convertToInteractive',\n",
              "                                                    [key], {});\n",
              "        if (!dataTable) return;\n",
              "\n",
              "        const docLinkHtml = 'Like what you see? Visit the ' +\n",
              "          '<a target=\"_blank\" href=https://colab.research.google.com/notebooks/data_table.ipynb>data table notebook</a>'\n",
              "          + ' to learn more about interactive tables.';\n",
              "        element.innerHTML = '';\n",
              "        dataTable['output_type'] = 'display_data';\n",
              "        await google.colab.output.renderOutput(dataTable, element);\n",
              "        const docLink = document.createElement('div');\n",
              "        docLink.innerHTML = docLinkHtml;\n",
              "        element.appendChild(docLink);\n",
              "      }\n",
              "    </script>\n",
              "  </div>\n",
              "\n",
              "\n",
              "    </div>\n",
              "  </div>\n"
            ],
            "application/vnd.google.colaboratory.intrinsic+json": {
              "type": "dataframe",
              "summary": "{\n  \"name\": \"df[(df\",\n  \"rows\": 0,\n  \"fields\": [\n    {\n      \"column\": \"label\",\n      \"properties\": {\n        \"dtype\": \"uint8\",\n        \"num_unique_values\": 0,\n        \"samples\": [],\n        \"semantic_type\": \"\",\n        \"description\": \"\"\n      }\n    },\n    {\n      \"column\": \"predict\",\n      \"properties\": {\n        \"dtype\": \"number\",\n        \"std\": null,\n        \"min\": null,\n        \"max\": null,\n        \"num_unique_values\": 0,\n        \"samples\": [],\n        \"semantic_type\": \"\",\n        \"description\": \"\"\n      }\n    }\n  ]\n}"
            }
          },
          "metadata": {},
          "execution_count": 37
        }
      ]
    },
    {
      "cell_type": "code",
      "source": [
        "plot_images_labels_prediction(x_test_image,y_test_label\n",
        "                              ,prediction,idx=340,num=1)"
      ],
      "metadata": {
        "colab": {
          "base_uri": "https://localhost:8080/",
          "height": 232
        },
        "id": "ov9b52eE_FRX",
        "outputId": "d4d22558-abf5-4602-89de-fe81cbb5dd5d"
      },
      "execution_count": 38,
      "outputs": [
        {
          "output_type": "display_data",
          "data": {
            "text/plain": [
              "<Figure size 1200x1400 with 1 Axes>"
            ],
            "image/png": "[encoded data removed]"
          },
          "metadata": {}
        }
      ]
    },
    {
      "cell_type": "code",
      "source": [
        "plot_images_labels_prediction(x_test_image,y_test_label\n",
        "                              ,prediction,idx=1289,num=1)"
      ],
      "metadata": {
        "colab": {
          "base_uri": "https://localhost:8080/",
          "height": 232
        },
        "id": "QFH5Lt4p_Hs_",
        "outputId": "2c4a51a8-dbe3-406e-9fcf-cd06a0ac4f63"
      },
      "execution_count": 39,
      "outputs": [
        {
          "output_type": "display_data",
          "data": {
            "text/plain": [
              "<Figure size 1200x1400 with 1 Axes>"
            ],
            "image/png": "[encoded data removed]"
          },
          "metadata": {}
        }
      ]
    },
    {
      "cell_type": "code",
      "source": [
        "from google.colab import drive"
      ],
      "metadata": {
        "id": "qYPaK4jp_JW-"
      },
      "execution_count": 40,
      "outputs": []
    }
  ]
}